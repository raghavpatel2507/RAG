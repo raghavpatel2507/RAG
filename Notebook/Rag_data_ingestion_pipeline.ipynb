{
 "cells": [
  {
   "cell_type": "markdown",
   "id": "0a2e810e",
   "metadata": {},
   "source": [
    "## RAG Pipelines- Data Ingestion to Vector DB Pipeline"
   ]
  },
  {
   "cell_type": "code",
   "execution_count": 1,
   "id": "29fb275e",
   "metadata": {},
   "outputs": [
    {
     "name": "stderr",
     "output_type": "stream",
     "text": [
      "/home/logicrays/Desktop/RAGHAV/RAG/.venv/lib/python3.13/site-packages/tqdm/auto.py:21: TqdmWarning: IProgress not found. Please update jupyter and ipywidgets. See https://ipywidgets.readthedocs.io/en/stable/user_install.html\n",
      "  from .autonotebook import tqdm as notebook_tqdm\n"
     ]
    }
   ],
   "source": [
    "import os\n",
    "from langchain_community.document_loaders import PyPDFLoader, PyMuPDFLoader\n",
    "from langchain.text_splitter import RecursiveCharacterTextSplitter\n",
    "from pathlib import Path"
   ]
  },
  {
   "cell_type": "code",
   "execution_count": 2,
   "id": "4093af96",
   "metadata": {},
   "outputs": [
    {
     "name": "stdout",
     "output_type": "stream",
     "text": [
      "Found 3 PDF files to process\n",
      "\n",
      "Processing: RAGHAV-RESUME.pdf\n",
      "  ✓ Loaded 1 pages\n",
      "\n",
      "Processing: Figma Document.pdf\n",
      "  ✓ Loaded 11 pages\n",
      "\n",
      "Processing: HR Policy_2025 Final.pdf\n",
      "  ✓ Loaded 7 pages\n",
      "\n",
      "Total documents loaded: 19\n"
     ]
    }
   ],
   "source": [
    "### Read all the pdf's inside the directory\n",
    "def process_all_pdfs(pdf_directory):\n",
    "    \"\"\"Process all PDF files in a directory\"\"\"\n",
    "    all_documents = []\n",
    "    pdf_dir = Path(pdf_directory)\n",
    "    \n",
    "    # Find all PDF files recursively\n",
    "    pdf_files = list(pdf_dir.glob(\"**/*.pdf\"))\n",
    "    \n",
    "    print(f\"Found {len(pdf_files)} PDF files to process\")\n",
    "    \n",
    "    for pdf_file in pdf_files:\n",
    "        print(f\"\\nProcessing: {pdf_file.name}\")\n",
    "        try:\n",
    "            loader = PyPDFLoader(str(pdf_file))\n",
    "            documents = loader.load()\n",
    "            \n",
    "            # Add source information to metadata\n",
    "            for doc in documents:\n",
    "                doc.metadata['source_file'] = pdf_file.name\n",
    "                doc.metadata['file_type'] = 'pdf'\n",
    "            \n",
    "            all_documents.extend(documents)\n",
    "            print(f\"  ✓ Loaded {len(documents)} pages\")\n",
    "            \n",
    "        except Exception as e:\n",
    "            print(f\"  ✗ Error: {e}\")\n",
    "    \n",
    "    print(f\"\\nTotal documents loaded: {len(all_documents)}\")\n",
    "    return all_documents\n",
    "\n",
    "# Process all PDFs in the data directory\n",
    "all_pdf_documents = process_all_pdfs(\"../data\")"
   ]
  },
  {
   "cell_type": "code",
   "execution_count": 3,
   "id": "fabe12c0",
   "metadata": {},
   "outputs": [
    {
     "data": {
      "text/plain": [
       "[Document(metadata={'producer': 'pdfTeX-1.40.23', 'creator': 'LaTeX with hyperref', 'creationdate': '2025-07-21T10:36:26+00:00', 'author': '', 'keywords': '', 'moddate': '2025-07-21T10:36:26+00:00', 'ptex.fullbanner': 'This is pdfTeX, Version 3.141592653-2.6-1.40.23 (TeX Live 2021) kpathsea version 6.3.3', 'subject': '', 'title': '', 'trapped': '/False', 'source': '../data/pdf/RAGHAV-RESUME.pdf', 'total_pages': 1, 'page': 0, 'page_label': '1', 'source_file': 'RAGHAV-RESUME.pdf', 'file_type': 'pdf'}, page_content='Raghav Patel\\nAnand,Gujarat\\n/ne+91-7862814968 patelraghav014@gmail.com Raghav Patel /gtbraghavpatel2507\\nSUMMARY\\nexperience in leveraging Generative AI, Machine Learning, and Deep Learningto solve complex busi-\\nness challenges. Proficient in classification, regression, clustering, computer vision (CV), natural language\\nprocessing (NLP), transfer learning, and large language models (LLMs). Demonstrated expertise in designing\\nand deploying advanced AI models to deliver data-driven, impactful solutions.\\nEDUCATION\\nCharotar University of science and technology 06 2021 – 05 2025\\nInformation Technology (IT) -CGPA - 8.76 Anand, India\\nBright Junior Science College 05 2019 – 05 2021\\nHSC Modasa, India\\nTECHNICAL SKILLS\\n• Python • SQL • Generative AI • RAG • LLM • Machine Learning • Deep Learning • NLP • Computer\\nvision • TensorFlow • PyTorch • Keras • Langchain • Langgraph • Yolo • Scikit-learn • NLTK • Pandas\\n• Numpy • Matplotlib • Seaborn • Opencv • AWS • Azure • Git • Github\\nWORK EXPERIENCE\\nAlpha-e Barcode Solutions Pvt. Ltd. 07 2024 – Ongoing\\nAI-ML Engineer Onsite\\n• Analyzed data, created reports, and provided actionable insights.\\n• Built AI chatbotfor natural language queries and real-time data insights.\\n• Developed voice-based automatic dataentry in ERP.\\niNeuron Intelligence Pvt Ltd 03 2024 – 04 2024\\nMachine Learning Engineer Remote\\n• Researched and designed a scalable crowd detection systemarchitecture.\\n• Collected datasets and implemented object detection for crowd density estimation..\\n• Developed and tested modular code using computer vision techniques.\\nOasis Infobyte 08 2023 – 09 2023\\nData Science Intern Remote\\n• Worked on data-driven projects using Python and machine learning, focusing on classification, analysis, and\\nmodel evaluation.\\nAugmetic Infinite LLP 04 2023 – 06 2023\\nFront End Developer Remote\\n• Designed and developed an HTML-based interface for seamless website interaction, implementing responsive\\ndesign, and optimizing UI/UX for enhanced user engagement.\\nPROJECTS\\nKidney-Disease-Classification-Deep-Learning | Python,CNN,DVC,MLFLOW,Docker,AWS 01 2024\\n∗ Built a kidney disease classification system with modular coding, MLflow/DVC integration, and a Flask-based\\nprediction interface.\\n∗ Deployed the solution on AWS for scalability and real-time inference.\\nHate Speech Classification-NLP | Python,NLTK,Tensorflow,FastAPI,Tokenization 03 2024\\n∗ Built an end-to-end NLP pipeline for Hate Speech Classification with data processing, model training, and\\nevaluation.\\n∗ Integrated FastAPI for real-time predictions, ensuring scalability and efficient deployment.\\nSign Language Detection Using YOLOV5-CV | Python,Pytorch,YOLOV5,Docker,AWS\\n∗ Developed an end-to-end Sign Language Detection system using YOLOv5, with a Flask-based real-time interface.\\n∗ Deployed the solution on AWS, ensuring scalability and secure cloud infrastructure.'),\n",
       " Document(metadata={'producer': 'Skia/PDF m129', 'creator': 'Mozilla/5.0 (X11; Linux x86_64) AppleWebKit/537.36 (KHTML, like Gecko) HeadlessChrome/129.0.0.0 Safari/537.36', 'creationdate': '2025-09-02T12:12:23+00:00', 'title': 'Figma Document', 'moddate': '2025-09-02T12:12:23+00:00', 'source': '../data/pdf/Figma Document.pdf', 'total_pages': 11, 'page': 0, 'page_label': '1', 'source_file': 'Figma Document.pdf', 'file_type': 'pdf'}, page_content='Document\\xa01\\xa0\\nFigma-to-Code\\xa0System\\xa0Prompt\\xa0\\nYou\\xa0are\\xa0an\\xa0expert\\xa0frontend\\xa0developer\\xa0tasked\\xa0with\\xa0converting\\xa0Figma\\xa0designs\\xa0to\\xa0pixel-perfect\\xa0\\ncode.\\xa0You\\xa0will\\xa0receive\\xa0Figma\\xa0context\\xa0data\\xa0containing\\xa0design\\xa0specifications,\\xa0and\\xa0must\\xa0recreate\\xa0\\nthe\\xa0exact\\xa0visual\\xa0design.\\xa0\\nContext\\xa0Structure\\xa0Understanding\\xa0\\nThe\\xa0provided\\xa0context\\xa0contains:\\xa0\\n● metadata:\\xa0Design\\xa0file\\xa0information\\xa0and\\xa0component\\xa0registry\\xa0\\n● nodes:\\xa0Hierarchical\\xa0structure\\xa0of\\xa0all\\xa0design\\xa0elements\\xa0\\n● globalVars:\\xa0Styles,\\xa0layouts,\\xa0fills,\\xa0effects,\\xa0and\\xa0typography\\xa0definitions\\xa0\\nCritical\\xa0Implementation\\xa0Rules\\xa0\\n1.\\xa0Hierarchy\\xa0and\\xa0Structure\\xa0\\n● Follow\\xa0the\\xa0exact\\xa0node\\xa0hierarchy\\xa0from\\xa0nodes\\xa0array\\xa0\\n● Each\\xa0node\\xa0has\\xa0type\\xa0(FRAME,\\xa0GROUP,\\xa0TEXT,\\xa0RECTANGLE,\\xa0etc.)\\xa0that\\xa0determines\\xa0\\nHTML\\xa0structure\\xa0\\n● Preserve\\xa0parent-child\\xa0relationships\\xa0exactly\\xa0as\\xa0specified\\xa0\\n● Use\\xa0children\\xa0arrays\\xa0to\\xa0nest\\xa0elements\\xa0correctly\\xa0\\n2.\\xa0Layout\\xa0System\\xa0\\n● Positioning:\\xa0Use\\xa0locationRelativeToParent\\xa0(x,\\xa0y\\xa0coordinates)\\xa0for\\xa0precise\\xa0\\npositioning\\xa0\\n● Dimensions:\\xa0Apply\\xa0exact\\xa0width\\xa0and\\xa0height\\xa0from\\xa0layout\\xa0data'),\n",
       " Document(metadata={'producer': 'Skia/PDF m129', 'creator': 'Mozilla/5.0 (X11; Linux x86_64) AppleWebKit/537.36 (KHTML, like Gecko) HeadlessChrome/129.0.0.0 Safari/537.36', 'creationdate': '2025-09-02T12:12:23+00:00', 'title': 'Figma Document', 'moddate': '2025-09-02T12:12:23+00:00', 'source': '../data/pdf/Figma Document.pdf', 'total_pages': 11, 'page': 1, 'page_label': '2', 'source_file': 'Figma Document.pdf', 'file_type': 'pdf'}, page_content='● Mode:\\xa0Respect\\xa0layout\\xa0modes\\xa0(none,\\xa0auto,\\xa0etc.)\\xa0\\n● Implement\\xa0absolute\\xa0positioning\\xa0where\\xa0coordinates\\xa0are\\xa0specified\\xa0\\n● Convert\\xa0Figma\\xa0coordinates\\xa0to\\xa0CSS\\xa0positioning\\xa0(top,\\xa0left,\\xa0width,\\xa0height)\\xa0\\n3.\\xa0Styling\\xa0Application\\xa0\\n● Colors:\\xa0Extract\\xa0from\\xa0fill_*\\xa0references\\xa0in\\xa0globalVars\\xa0\\n○ Solid\\xa0colors:\\xa0Use\\xa0hex\\xa0values\\xa0directly\\xa0\\n○ Gradients:\\xa0Convert\\xa0gradient\\xa0specifications\\xa0to\\xa0CSS\\xa0gradients\\xa0\\n○ Images:\\xa0Handle\\xa0image\\xa0fills\\xa0with\\xa0proper\\xa0background\\xa0properties\\xa0\\n● Typography:\\xa0Map\\xa0style_*\\xa0references\\xa0to\\xa0CSS\\xa0font\\xa0properties\\xa0\\n○ fontFamily,\\xa0fontWeight,\\xa0fontSize,\\xa0lineHeight\\xa0\\n○ textAlignHorizontal\\xa0→\\xa0text-align\\xa0\\n○ textAlignVertical\\xa0→\\xa0vertical\\xa0alignment\\xa0properties\\xa0\\n● Border\\xa0Radius:\\xa0Apply\\xa0borderRadius\\xa0values\\xa0exactly\\xa0\\n● Effects:\\xa0Convert\\xa0effect_*\\xa0to\\xa0CSS\\xa0equivalents\\xa0(box-shadow,\\xa0filters)\\xa0\\n4.\\xa0Component\\xa0Handling\\xa0\\n● Identify\\xa0COMPONENT\\xa0and\\xa0INSTANCE\\xa0types\\xa0\\n● Reuse\\xa0component\\xa0definitions\\xa0for\\xa0instances\\xa0\\n● Map\\xa0componentId\\xa0references\\xa0to\\xa0actual\\xa0components\\xa0\\n● Handle\\xa0component\\xa0variations\\xa0and\\xa0overrides\\xa0\\n5.\\xa0Image\\xa0Processing\\xa0\\n● Extract\\xa0image\\xa0references\\xa0from\\xa0imageRef\\xa0fields\\xa0\\n● Handle\\xa0scaleMode\\xa0(FILL,\\xa0FIT,\\xa0etc.)\\xa0→\\xa0CSS\\xa0object-fit\\xa0\\n● Apply\\xa0objectFit\\xa0and\\xa0background\\xa0properties\\xa0correctly\\xa0\\n● Implement\\xa0proper\\xa0image\\xa0loading\\xa0and\\xa0fallbacks\\xa0\\n6.\\xa0Color\\xa0System\\xa0\\n● Parse\\xa0fill\\xa0arrays\\xa0for\\xa0multiple\\xa0color\\xa0layers\\xa0\\n● Handle\\xa0transparency\\xa0and\\xa0opacity\\xa0\\n● Apply\\xa0stroke\\xa0colors\\xa0and\\xa0weights\\xa0accurately'),\n",
       " Document(metadata={'producer': 'Skia/PDF m129', 'creator': 'Mozilla/5.0 (X11; Linux x86_64) AppleWebKit/537.36 (KHTML, like Gecko) HeadlessChrome/129.0.0.0 Safari/537.36', 'creationdate': '2025-09-02T12:12:23+00:00', 'title': 'Figma Document', 'moddate': '2025-09-02T12:12:23+00:00', 'source': '../data/pdf/Figma Document.pdf', 'total_pages': 11, 'page': 2, 'page_label': '3', 'source_file': 'Figma Document.pdf', 'file_type': 'pdf'}, page_content=\"● Maintain\\xa0exact\\xa0color\\xa0values\\xa0from\\xa0hex\\xa0codes\\xa0\\n7.\\xa0Responsive\\xa0Considerations\\xa0\\n● Maintain\\xa0fixed\\xa0dimensions\\xa0when\\xa0specified\\xa0\\n● Implement\\xa0proper\\xa0overflow\\xa0handling\\xa0\\n● Ensure\\xa0container\\xa0relationships\\xa0work\\xa0across\\xa0screen\\xa0sizes\\xa0\\nQuality\\xa0Assurance\\xa0Checklist\\xa0\\n● [\\xa0]\\xa0All\\xa0elements\\xa0positioned\\xa0exactly\\xa0as\\xa0in\\xa0Figma\\xa0\\n● [\\xa0]\\xa0Colors\\xa0match\\xa0exactly\\xa0(hex\\xa0values\\xa0preserved)\\xa0\\n● [\\xa0]\\xa0Typography\\xa0styles\\xa0applied\\xa0correctly\\xa0\\n● [\\xa0]\\xa0Images\\xa0display\\xa0with\\xa0correct\\xa0scaling\\xa0and\\xa0positioning\\xa0\\n● [\\xa0]\\xa0Border\\xa0radius\\xa0and\\xa0effects\\xa0replicated\\xa0\\n● [\\xa0]\\xa0Component\\xa0structure\\xa0maintained\\xa0\\n● [\\xa0]\\xa0Interactive\\xa0elements\\xa0properly\\xa0implemented\\xa0\\n● [\\xa0]\\xa0No\\xa0layout\\xa0shifts\\xa0or\\xa0misalignments\\xa0\\n● [\\xa0]\\xa0Clean,\\xa0maintainable\\xa0code\\xa0structure\\xa0\\nCommon\\xa0Pitfalls\\xa0to\\xa0Avoid\\xa0\\n1 . Coordinate\\xa0System:\\xa0Figma\\xa0uses\\xa0top-left\\xa0origin;\\xa0ensure\\xa0proper\\xa0CSS\\xa0translation\\xa0\\n2 . Font\\xa0Loading:\\xa0Include\\xa0proper\\xa0font\\xa0imports\\xa0for\\xa0custom\\xa0fonts\\xa0\\n3 . Image\\xa0Paths:\\xa0Handle\\xa0image\\xa0references\\xa0correctly\\xa0based\\xa0on\\xa0available\\xa0assets\\xa0\\n4 . Z-Index:\\xa0Maintain\\xa0proper\\xa0layering\\xa0based\\xa0on\\xa0node\\xa0order\\xa0\\n5 . Overflow:\\xa0Apply\\xa0appropriate\\xa0overflow\\xa0properties\\xa0for\\xa0containers\\xa0\\n6 . Component\\xa0Props:\\xa0Don't\\xa0hardcode\\xa0values\\xa0that\\xa0should\\xa0be\\xa0dynamic\\xa0in\\xa0components\\xa0\\nOutput\\xa0Requirements\\xa0\\nGenerate\\xa0production-ready\\xa0code\\xa0that:\\xa0\\n● Recreates\\xa0the\\xa0design\\xa0with\\xa0pixel-perfect\\xa0accuracy\\xa0\\n● Uses\\xa0clean,\\xa0semantic\\xa0HTML\\xa0structure\"),\n",
       " Document(metadata={'producer': 'Skia/PDF m129', 'creator': 'Mozilla/5.0 (X11; Linux x86_64) AppleWebKit/537.36 (KHTML, like Gecko) HeadlessChrome/129.0.0.0 Safari/537.36', 'creationdate': '2025-09-02T12:12:23+00:00', 'title': 'Figma Document', 'moddate': '2025-09-02T12:12:23+00:00', 'source': '../data/pdf/Figma Document.pdf', 'total_pages': 11, 'page': 3, 'page_label': '4', 'source_file': 'Figma Document.pdf', 'file_type': 'pdf'}, page_content='● Implements\\xa0responsive\\xa0and\\xa0maintainable\\xa0CSS\\xa0\\n● Includes\\xa0proper\\xa0component\\xa0architecture\\xa0\\n● Handles\\xa0all\\xa0interactive\\xa0elements\\xa0\\n● Provides\\xa0fallbacks\\xa0for\\xa0missing\\xa0assets\\xa0\\n● Is\\xa0optimized\\xa0for\\xa0performance\\xa0and\\xa0accessibility\\xa0\\nRemember:\\xa0The\\xa0goal\\xa0is\\xa0100%\\xa0visual\\xa0fidelity\\xa0to\\xa0the\\xa0original\\xa0Figma\\xa0design\\xa0while\\xa0producing\\xa0clean,\\xa0\\nmaintainable\\xa0code.'),\n",
       " Document(metadata={'producer': 'Skia/PDF m129', 'creator': 'Mozilla/5.0 (X11; Linux x86_64) AppleWebKit/537.36 (KHTML, like Gecko) HeadlessChrome/129.0.0.0 Safari/537.36', 'creationdate': '2025-09-02T12:12:23+00:00', 'title': 'Figma Document', 'moddate': '2025-09-02T12:12:23+00:00', 'source': '../data/pdf/Figma Document.pdf', 'total_pages': 11, 'page': 4, 'page_label': '5', 'source_file': 'Figma Document.pdf', 'file_type': 'pdf'}, page_content=\"Docuemnt\\xa02 \\xa0 \\xa0 \\n\\xa0 \\nConverting\\xa0Figma\\xa0Designs\\xa0into\\xa0Code\\xa0with\\xa0\\nAI\\xa0\\nConverting\\xa0a\\xa0Figma\\xa0design\\xa0into\\xa0code\\xa0using\\xa0an\\xa0LLM\\xa0(Large\\xa0Language\\xa0Model)\\xa0is\\xa0possible,\\xa0but\\xa0it\\xa0\\nrequires\\xa0providing\\xa0the\\xa0model\\xa0with\\xa0clear\\xa0design\\xa0context.\\xa0\\nTo\\xa0achieve\\xa0this,\\xa0we\\xa0need\\xa0to\\xa0fetch\\xa0the\\xa0design\\xa0data\\xa0(layouts,\\xa0layers,\\xa0styles)\\xa0from\\xa0Figma\\xa0and\\xa0pass\\xa0it\\xa0\\nto\\xa0the\\xa0AI.\\xa0This\\xa0can\\xa0be\\xa0done\\xa0in\\xa0two\\xa0ways:\\xa0\\n1 . Calling\\xa0Figma’s\\xa0REST\\xa0API\\xa0\\n2 . Using\\xa0a\\xa0bridge\\xa0such\\xa0as\\xa0an\\xa0MCP\\xa0server\\xa0(Model\\xa0Context\\xa0Protocol)\\n\\xa0\\nFigma\\xa0also\\xa0provides\\xa0a\\xa0Dev\\xa0Mode\\xa0MCP\\xa0server\\xa0inside\\xa0its\\xa0desktop\\xa0app.\\xa0However,\\xa0that\\xa0server\\xa0only\\xa0\\nworks\\xa0locally\\xa0and\\xa0cannot\\xa0be\\xa0used\\xa0directly\\xa0in\\xa0a\\xa0web\\xa0application.\\xa0\\nIn\\xa0any\\xa0case,\\xa0the\\xa0basic\\xa0idea\\xa0is:\\xa0\\n● Take\\xa0the\\xa0Figma\\xa0file\\xa0ID\\xa0\\n● Retrieve\\xa0the\\xa0design’s\\xa0JSON\\xa0data\\xa0or\\xa0assets\\xa0\\n● Summarize\\xa0the\\xa0data\\xa0\\n● Provide\\xa0it\\xa0to\\xa0the\\xa0LLM\\xa0so\\xa0that\\xa0the\\xa0generated\\xa0code\\xa0matches\\xa0the\\xa0design\\n\\xa0\\n1.\\xa0Direct\\xa0Figma\\xa0API\\xa0Pipeline\\xa0\\nThis\\xa0is\\xa0a\\xa0straightforward\\xa0method\\xa0where\\xa0we\\xa0call\\xa0Figma's\\xa0REST\\xa0API\\xa0from\\xa0the\\xa0backend\\xa0and\\xa0feed\\xa0\\nthe\\xa0response\\xa0to\\xa0the\\xa0LLM.\\xa0The\\xa0flow\\xa0is\\xa0as\\xa0follows:\\xa0\\n● Detect\\xa0the\\xa0Figma\\xa0link:\\xa0When\\xa0the\\xa0user's\\xa0prompt\\xa0includes\\xa0a\\xa0Figma\\xa0URL,\\xa0parse\\xa0it\\xa0to\\xa0\\nextract\\xa0the\\xa0fileKey\\xa0(and\\xa0optionally\\xa0a\\xa0specific\\xa0nodeId\\xa0if\\xa0a\\xa0frame\\xa0is\\xa0linked).\"),\n",
       " Document(metadata={'producer': 'Skia/PDF m129', 'creator': 'Mozilla/5.0 (X11; Linux x86_64) AppleWebKit/537.36 (KHTML, like Gecko) HeadlessChrome/129.0.0.0 Safari/537.36', 'creationdate': '2025-09-02T12:12:23+00:00', 'title': 'Figma Document', 'moddate': '2025-09-02T12:12:23+00:00', 'source': '../data/pdf/Figma Document.pdf', 'total_pages': 11, 'page': 5, 'page_label': '6', 'source_file': 'Figma Document.pdf', 'file_type': 'pdf'}, page_content='● Fetch\\xa0design\\xa0data:\\xa0we\\xa0will\\xa0Use\\xa0a\\xa0Figma\\xa0developer\\xa0access\\xa0token\\xa0to\\xa0call\\xa0the\\xa0API,\\xa0such\\xa0as\\xa0\\nGET\\xa0https://api.figma.com/v1/files/{fileKey}\\xa0(or\\xa0/files/{fileKey}/nodes?ids={nodeId}\\xa0for\\xa0a\\xa0\\nspecific\\xa0frame).\\xa0The\\xa0API\\xa0returns\\xa0a\\xa0JSON\\xa0file\\xa0with\\xa0the\\xa0entire\\xa0node\\'s\\xa0tree,\\xa0components,\\xa0\\nstyles,\\xa0positions,\\xa0etc.\\xa0\\n● Process\\xa0and\\xa0filter\\xa0the\\xa0JSON:\\xa0The\\xa0raw\\xa0Figma\\xa0JSON\\xa0is\\xa0very\\xa0large.\\xa0We\\xa0will\\xa0extract\\xa0only\\xa0\\nthe\\xa0relevant\\xa0parts,\\xa0such\\xa0as\\xa0named\\xa0frames\\xa0or\\xa0artboards,\\xa0their\\xa0child\\xa0layers\\xa0(e.g.,\\xa0buttons,\\xa0\\ntext,\\xa0images),\\xa0and\\xa0key\\xa0properties\\xa0(dimensions,\\xa0colors,\\xa0fonts,\\xa0layout).\\xa0We\\xa0may\\xa0need\\xa0to\\xa0\\ntraverse\\xa0a\\xa0few\\xa0levels\\xa0deep\\xa0(using\\xa0the\\xa0depth\\xa0parameter)\\xa0to\\xa0capture\\xa0the\\xa0structure\\xa0without\\xa0\\ntoo\\xa0much\\xa0detail.\\xa0This\\xa0step\\xa0is\\xa0critical\\xa0and\\xa0could\\xa0be\\xa0a\\xa0potential\\xa0challenge\\xa0in\\xa0this\\xa0approach.\\xa0\\n● Craft\\xa0the\\xa0LLM\\xa0prompt:\\xa0Combine\\xa0the\\xa0user\\'s\\xa0request\\xa0with\\xa0a\\xa0summary\\xa0of\\xa0the\\xa0design\\xa0data.\\xa0\\nFor\\xa0example,\\xa0add\\xa0a\\xa0system\\xa0message\\xa0like:\\xa0\"Below\\xa0is\\xa0the\\xa0structure\\xa0of\\xa0the\\xa0Figma\\xa0design.\\xa0\\nEach\\xa0frame\\xa0contains\\xa0X\\xa0and\\xa0Y...\"\\xa0or\\xa0include\\xa0small\\xa0JSON\\xa0snippets.\\xa0Instruct\\xa0the\\xa0model\\xa0to\\xa0\\ngenerate\\xa0code\\xa0(e.g.,\\xa0Next.js/React\\xa0code)\\xa0that\\xa0matches\\xa0the\\xa0design,\\xa0such\\xa0as:\\xa0\"Design\\xa0\\ndata:\\xa0Button\\xa0at\\xa0top\\xa0with\\xa0text\\xa0‘Submit’,\\xa0blue\\xa0background.\\xa0Header\\xa0with\\xa0logo,\\xa0etc.\\xa0Generate\\xa0\\nReact+CSS\\xa0code\\xa0matching\\xa0this.\"\\xa0\\n● Generate\\xa0code:\\xa0Call\\xa0the\\xa0agent\\xa0API\\xa0with\\xa0the\\xa0combined\\xa0prompt\\xa0and\\xa0provide\\xa0the\\xa0Figma\\xa0\\ndata\\xa0as\\xa0context.\\xa0\\nThis\\xa0pipeline\\xa0is\\xa0fully\\xa0customizable:\\xa0we\\xa0control\\xa0the\\xa0extraction\\xa0of\\xa0design\\xa0details\\xa0and\\xa0how\\xa0to\\xa0instruct\\xa0\\nthe\\xa0LLM.\\xa0It\\xa0relies\\xa0only\\xa0on\\xa0the\\xa0Figma\\xa0REST\\xa0API,\\xa0without\\xa0needing\\xa0MCP\\xa0or\\xa0any\\xa0special\\xa0protocol.\\xa0\\nStep-by-Step\\xa0Flow\\xa0\\n1 . URL\\xa0Detection\\xa0&\\xa0Processing:\\xa0Parse\\xa0the\\xa0Figma\\xa0URL\\xa0to\\xa0extract\\xa0the\\xa0file\\xa0key\\xa0using\\xa0regex\\xa0\\npatterns.\\xa0\\n2 . Figma\\xa0API\\xa0Integration:\\xa0Use\\xa0Figma\\'s\\xa0REST\\xa0API\\xa0endpoints\\xa0to\\xa0fetch\\xa0file\\xa0data.\\xa0\\n3 . Design\\xa0Data\\xa0Extraction:\\xa0Process\\xa0the\\xa0JSON\\xa0response\\xa0to\\xa0extract\\xa0components,\\xa0styles,\\xa0\\nand\\xa0layouts\\xa0using\\xa0manual\\xa0logic.\\xa0\\n4 . Context\\xa0Preparation:\\xa0Transform\\xa0the\\xa0design\\xa0data\\xa0into\\xa0a\\xa0format\\xa0suitable\\xa0for\\xa0the\\xa0LLM.\\xa0\\n5 . Stream\\xa0API\\xa0Integration:\\xa0Send\\xa0the\\xa0processed\\xa0design\\xa0context\\xa0to\\xa0the\\xa0existing\\xa0/stream\\xa0API.\\xa0\\n6 . Code\\xa0Generation:\\xa0The\\xa0LLM\\xa0generates\\xa0code\\xa0based\\xa0on\\xa0the\\xa0design\\xa0specifications.\\xa0\\nPros\\xa0\\n● No\\xa0extra\\xa0servers\\xa0beyond\\xa0your\\xa0backend.'),\n",
       " Document(metadata={'producer': 'Skia/PDF m129', 'creator': 'Mozilla/5.0 (X11; Linux x86_64) AppleWebKit/537.36 (KHTML, like Gecko) HeadlessChrome/129.0.0.0 Safari/537.36', 'creationdate': '2025-09-02T12:12:23+00:00', 'title': 'Figma Document', 'moddate': '2025-09-02T12:12:23+00:00', 'source': '../data/pdf/Figma Document.pdf', 'total_pages': 11, 'page': 6, 'page_label': '7', 'source_file': 'Figma Document.pdf', 'file_type': 'pdf'}, page_content='● Complete\\xa0control\\xa0over\\xa0the\\xa0data\\xa0sent.\\xa0\\nCons\\xa0\\n● Requires\\xa0implementing\\xa0all\\xa0parsing\\xa0and\\xa0filtering\\xa0logic.\\xa0\\n● The\\xa0Figma\\xa0JSON\\xa0can\\xa0be\\xa0bulky,\\xa0making\\xa0concise\\xa0prompts\\xa0tricky.\\xa0\\n● Large\\xa0JSON\\xa0may\\xa0exceed\\xa0the\\xa0model\\'s\\xa0context\\xa0window,\\xa0requiring\\xa0summarization\\xa0or\\xa0\\ntruncation,\\xa0which\\xa0could\\xa0affect\\xa0the\\xa0accuracy\\xa0of\\xa0the\\xa0generated\\xa0code.\\xa0\\n2.\\xa0Using\\xa0a\\xa0Figma\\xa0MCP\\xa0Server\\xa0(npm\\xa0Package)\\xa0\\nFigma\\'s\\xa0Model\\xa0Context\\xa0Protocol\\xa0(MCP)\\xa0is\\xa0a\\xa0standard\\xa0for\\xa0querying\\xa0data\\xa0sources\\xa0like\\xa0designs.\\xa0\\nFigma\\'s\\xa0Dev\\xa0Mode\\xa0MCP\\xa0server\\xa0(in\\xa0open\\xa0beta)\\xa0runs\\xa0in\\xa0the\\xa0desktop\\xa0app\\xa0and\\xa0answers\\xa0queries\\xa0like\\xa0\\n\"give\\xa0me\\xa0the\\xa0layout\\xa0of\\xa0this\\xa0frame.\"\\xa0It\\'s\\xa0useful\\xa0for\\xa0IDE\\xa0plugins\\xa0(e.g.,\\xa0Cursor,\\xa0Copilot),\\xa0but\\xa0not\\xa0\\ndirectly\\xa0for\\xa0web\\xa0backends,\\xa0as\\xa0it\\xa0requires\\xa0the\\xa0user\\'s\\xa0local\\xa0Figma\\xa0desktop\\xa0to\\xa0host\\xa0the\\xa0server.\\xa0\\nInstead,\\xa0we\\xa0can\\xa0use\\xa0an\\xa0open-source\\xa0MCP\\xa0tool\\xa0like\\xa0figma-developer-mcp\\xa0(by\\xa0Framelink),\\xa0which\\xa0\\nacts\\xa0as\\xa0an\\xa0intermediary.\\xa0It\\xa0queries\\xa0Figma\\'s\\xa0API,\\xa0filters\\xa0the\\xa0results,\\xa0and\\xa0exposes\\xa0them\\xa0through\\xa0\\nsimple\\xa0tools\\xa0(e.g.,\\xa0get_figma_data).\\xa0This\\xa0simulates\\xa0MCP\\xa0for\\xa0our\\xa0use\\xa0case.\\xa0\\nIf\\xa0using\\xa0Figma\\'s\\xa0official\\xa0MCP\\xa0server\\xa0were\\xa0possible,\\xa0the\\xa0flow\\xa0would\\xa0be:\\xa0\\n● User\\xa0enables\\xa0Dev\\xa0Mode\\xa0MCP\\xa0in\\xa0the\\xa0Figma\\xa0desktop\\xa0app.\\xa0\\n● Register\\xa0our\\xa0app\\xa0as\\xa0an\\xa0MCP\\xa0client\\xa0(via\\xa0URL\\xa0127.0.0.1:3845/mcp).\\xa0\\n● Query\\xa0the\\xa0local\\xa0server\\xa0from\\xa0our\\xa0code\\xa0agent.\\xa0\\nHowever,\\xa0since\\xa0our\\xa0app\\xa0is\\xa0server-based,\\xa0we\\xa0can\\'t\\xa0use\\xa0this.\\xa0We\\xa0rely\\xa0on\\xa0the\\xa0Figma\\xa0REST\\xa0API\\xa0with\\xa0\\na\\xa0personal\\xa0access\\xa0token\\xa0(created\\xa0via\\xa0Figma\\xa0settings)\\xa0or\\xa0the\\xa0npm\\xa0MCP\\xa0package.\\xa0The\\xa0token\\xa0\\nallows\\xa0fetching\\xa0public\\xa0Figma\\xa0files.\\xa0\\nIn\\xa0summary,\\xa0MCP\\xa0standardizes\\xa0context\\xa0queries\\xa0for\\xa0AI\\xa0agents.\\xa0We\\xa0won\\'t\\xa0call\\xa0the\\xa0official\\xa0MCP\\xa0\\nserver;\\xa0instead,\\xa0we\\'ll\\xa0use\\xa0the\\xa0REST\\xa0API\\xa0or\\xa0the\\xa0open-source\\xa0MCP\\xa0tool\\xa0to\\xa0get\\xa0the\\xa0same\\xa0\\ninformation\\xa0for\\xa0our\\xa0LLM\\xa0prompt.\\xa0\\nHow\\xa0the\\xa0Figma\\xa0MCP\\xa0Server\\xa0Tool\\xa0Works\\xa0\\nThe\\xa0npm\\xa0package\\xa0(e.g.,\\xa0figma-developer-mcp)\\xa0runs\\xa0as\\xa0a\\xa0server\\xa0(e.g.,\\xa0on\\xa0localhost:3333)\\xa0and'),\n",
       " Document(metadata={'producer': 'Skia/PDF m129', 'creator': 'Mozilla/5.0 (X11; Linux x86_64) AppleWebKit/537.36 (KHTML, like Gecko) HeadlessChrome/129.0.0.0 Safari/537.36', 'creationdate': '2025-09-02T12:12:23+00:00', 'title': 'Figma Document', 'moddate': '2025-09-02T12:12:23+00:00', 'source': '../data/pdf/Figma Document.pdf', 'total_pages': 11, 'page': 7, 'page_label': '8', 'source_file': 'Figma Document.pdf', 'file_type': 'pdf'}, page_content='provides\\xa0endpoints/tools\\xa0like:\\xa0\\n● get_figma_data(fileKey,\\xa0nodeId,\\xa0depth):\\xa0Returns\\xa0a\\xa0concise\\xa0description\\xa0of\\xa0the\\xa0Figma\\xa0\\nfile\\xa0or\\xa0node,\\xa0including\\xa0frames,\\xa0components,\\xa0layout\\xa0info,\\xa0styles,\\xa0etc.\\xa0It\\xa0provides\\xa0structured\\xa0\\nJSON\\xa0with\\xa0essential\\xa0details\\xa0(e.g.,\\xa0layer\\xa0types,\\xa0text,\\xa0colors,\\xa0positions),\\xa0omitting\\xa0\\nunnecessary\\xa0data.\\xa0\\n● download_figma_images(...)\\xa0(WIP):\\xa0Fetches\\xa0SVG/PNG\\xa0images\\xa0from\\xa0Figma\\xa0nodes.\\xa0\\nImplementation\\xa0Steps\\xa0\\n● Run\\xa0the\\xa0Figma-MCP\\xa0server\\xa0(e.g.,\\xa0via\\xa0npx\\xa0figma-developer-mcp\\xa0--figma-api-\\nkey=<token>).</token>\\xa0\\n● When\\xa0a\\xa0query\\xa0with\\xa0a\\xa0Figma\\xa0link\\xa0arrives,\\xa0the\\xa0backend\\xa0calls\\xa0the\\xa0MCP\\xa0API\\xa0(e.g.,\\xa0via\\xa0HTTP\\xa0\\nrequest\\xa0to\\xa0/messages\\xa0or\\xa0SSE\\xa0on\\xa0http://localhost:3333/sse)\\xa0to\\xa0invoke\\xa0get_figma_data\\xa0\\nwith\\xa0the\\xa0file\\xa0key\\xa0and\\xa0frame\\xa0ID.\\xa0\\n● The\\xa0MCP\\xa0server\\xa0returns\\xa0cleaned-up\\xa0JSON.\\xa0\\n● Include\\xa0this\\xa0output\\xa0in\\xa0the\\xa0LLM\\xa0prompt\\xa0(e.g.,\\xa0as\\xa0a\\xa0system\\xa0message).\\xa0Instruct\\xa0the\\xa0LLM\\xa0like:\\xa0\\n\"Given\\xa0this\\xa0design\\xa0metadata,\\xa0generate\\xa0Next.js\\xa0code\\xa0that\\xa0matches\\xa0it.\"\\xa0\\nThis\\xa0offloads\\xa0data\\xa0parsing\\xa0from\\xa0the\\xa0first\\xa0approach.\\xa0\\nPros\\xa0\\n● Standardizes\\xa0and\\xa0minimizes\\xa0context.\\xa0\\n● Battle-tested\\xa0in\\xa0tools\\xa0like\\xa0Cursor\\xa0for\\xa0better\\xa0accuracy.\\xa0\\n● Avoids\\xa0writing\\xa0your\\xa0own\\xa0parser.\\xa0\\nCons\\xa0\\n● Requires\\xa0running\\xa0the\\xa0MCP\\xa0server\\xa0alongside\\xa0the\\xa0backend\\xa0(a\\xa0Node\\xa0process\\xa0with\\xa0the\\xa0\\nFigma\\xa0token).\\xa0\\n● Integrating\\xa0with\\xa0an\\xa0LLM\\xa0API\\xa0may\\xa0need\\xa0an\\xa0extra\\xa0step.\\xa0\\n● The\\xa0server\\xa0is\\xa0in\\xa0beta,\\xa0so\\xa0there\\xa0may\\xa0be\\xa0some\\xa0issues.\\xa0\\nNote:\\xa0We\\xa0cannot\\xa0use\\xa0Figma\\'s\\xa0built-in\\xa0Dev\\xa0Mode\\xa0MCP\\xa0server\\xa0for\\xa0a\\xa0remote\\xa0web\\xa0service.\\xa0The\\xa0\\nopen-source\\xa0figma-developer-mcp\\xa0is\\xa0designed\\xa0for\\xa0web-based\\xa0workflows.'),\n",
       " Document(metadata={'producer': 'Skia/PDF m129', 'creator': 'Mozilla/5.0 (X11; Linux x86_64) AppleWebKit/537.36 (KHTML, like Gecko) HeadlessChrome/129.0.0.0 Safari/537.36', 'creationdate': '2025-09-02T12:12:23+00:00', 'title': 'Figma Document', 'moddate': '2025-09-02T12:12:23+00:00', 'source': '../data/pdf/Figma Document.pdf', 'total_pages': 11, 'page': 8, 'page_label': '9', 'source_file': 'Figma Document.pdf', 'file_type': 'pdf'}, page_content='3.\\xa0Architecture\\xa0Flows\\xa0\\nHere\\xa0are\\xa0end-to-end\\xa0outlines\\xa0for\\xa0both\\xa0approaches.\\xa0In\\xa0each,\\xa0the\\xa0frontend\\xa0passes\\xa0the\\xa0user\\'s\\xa0\\nprompt\\xa0(including\\xa0the\\xa0Figma\\xa0URL)\\xa0to\\xa0the\\xa0backend\\xa0/stream\\xa0endpoint.\\xa0\\nCustom\\xa0Figma-API\\xa0Flow\\xa0\\n1 . User\\xa0submits\\xa0prompt\\xa0with\\xa0Figma\\xa0URL.\\xa0\\n2 . Backend\\xa0extracts\\xa0link\\xa0(e.g.,\\xa0fileKey\\xa0from\\xa0figma.com/file/{fileKey}/...).\\xa0\\n3 . Call\\xa0Figma\\xa0API\\xa0to\\xa0fetch\\xa0JSON.\\xa0\\n4 . Process\\xa0and\\xa0summarize\\xa0key\\xa0UI\\xa0elements\\xa0(frames,\\xa0text,\\xa0colors,\\xa0etc.).\\xa0\\n5 . Build\\xa0LLM\\xa0prompt\\xa0by\\xa0combining\\xa0user\\'s\\xa0request\\xa0with\\xa0extracted\\xa0data\\xa0(e.g.,\\xa0bullet\\xa0list\\xa0or\\xa0\\nJSON).\\xa0\\n6 . Call\\xa0LLM\\xa0to\\xa0generate\\xa0and\\xa0stream\\xa0code.\\xa0\\nMCP-Enabled\\xa0Flow\\xa0\\n1 . User\\xa0submits\\xa0prompt\\xa0with\\xa0Figma\\xa0URL.\\xa0\\n2 . Backend\\xa0triggers\\xa0MCP\\xa0tool:\\xa0Send\\xa0get_figma_data(fileKey,\\xa0nodeId,\\xa0depth)\\xa0to\\xa0the\\xa0running\\xa0\\nMCP\\xa0server.\\xa0\\n3 . Receive\\xa0concise\\xa0JSON\\xa0of\\xa0design\\xa0elements.\\xa0\\n4 . Build\\xa0LLM\\xa0prompt\\xa0including\\xa0this\\xa0JSON\\xa0(or\\xa0summary).\\xa0\\n5 . Call\\xa0LLM\\xa0to\\xa0generate\\xa0and\\xa0stream\\xa0code.\\xa0\\nIn\\xa0both,\\xa0the\\xa0LLM\\xa0prompt\\xa0could\\xa0be:\\xa0\"You\\xa0are\\xa0an\\xa0AI\\xa0assistant\\xa0that\\xa0converts\\xa0designs\\xa0to\\xa0code.\\xa0The\\xa0\\nuser\\xa0provided\\xa0a\\xa0Figma\\xa0design\\xa0with\\xa0these\\xa0elements:\\xa0[list\\xa0or\\xa0JSON\\xa0of\\xa0frames/layers].\\xa0Generate\\xa0a\\xa0\\nReact\\xa0component\\xa0(Next.js\\xa0page)\\xa0that\\xa0matches\\xa0this\\xa0design\\xa0exactly.\"\\xa0\\nThe\\xa0key\\xa0is\\xa0extracting\\xa0design\\xa0info\\xa0before\\xa0the\\xa0LLM\\xa0call.\\xa0MCP\\xa0handles\\xa0this\\xa0in\\xa0its\\xa0flow;\\xa0the\\xa0custom\\xa0\\nflow\\xa0requires\\xa0backend\\xa0code.\\xa0\\n4.\\xa0Role\\xa0of\\xa0MCP\\xa0Server\\xa0\\nMCP\\xa0is\\xa0designed\\xa0to\\xa0let\\xa0AI\\xa0agents\\xa0fetch\\xa0external\\xa0context\\xa0(like\\xa0Figma\\xa0files)\\xa0in\\xa0a\\xa0standardized\\xa0way.'),\n",
       " Document(metadata={'producer': 'Skia/PDF m129', 'creator': 'Mozilla/5.0 (X11; Linux x86_64) AppleWebKit/537.36 (KHTML, like Gecko) HeadlessChrome/129.0.0.0 Safari/537.36', 'creationdate': '2025-09-02T12:12:23+00:00', 'title': 'Figma Document', 'moddate': '2025-09-02T12:12:23+00:00', 'source': '../data/pdf/Figma Document.pdf', 'total_pages': 11, 'page': 9, 'page_label': '10', 'source_file': 'Figma Document.pdf', 'file_type': 'pdf'}, page_content='The\\xa0Framelink\\xa0figma-developer-mcp\\xa0server\\xa0supports\\xa0our\\xa0use\\xa0case\\xa0by\\xa0providing\\xa0Figma\\xa0layout\\xa0\\ninfo\\xa0to\\xa0AI\\xa0coding\\xa0agents.\\xa0\\nWe\\xa0can\\xa0treat\\xa0it\\xa0as\\xa0a\\xa0tool\\xa0or\\xa0microservice.\\xa0It\\'s\\xa0optional—we\\xa0could\\xa0implement\\xa0similar\\xa0logic\\xa0\\nourselves—but\\xa0it\\xa0simplifies\\xa0the\\xa0hardest\\xa0part\\xa0(handling\\xa0Figma\\xa0data).\\xa0\\nDirect\\xa0Figma\\xa0REST\\xa0JSON\\xa0is\\xa0hard\\xa0to\\xa0process\\xa0due\\xa0to\\xa0its\\xa0size\\xa0and\\xa0noise.\\xa0We\\'d\\xa0need\\xa0to\\xa0prune\\xa0node\\xa0\\ntrees,\\xa0convert\\xa0Auto-layout\\xa0to\\xa0CSS,\\xa0and\\xa0resolve\\xa0variables.\\xa0That\\'s\\xa0why\\xa0adding\\xa0a\\xa0\"Figma\\xa0to\\xa0LLM-\\nready\\xa0context\"\\xa0layer\\xa0(like\\xa0MCP)\\xa0is\\xa0better\\xa0than\\xa0raw\\xa0data.\\xa0\\nRecommended\\xa0Approach:\\xa0Use\\xa0Framelink\\xa0figma-\\ndeveloper-mcp\\xa0\\nThis\\xa0is\\xa0the\\xa0best\\xa0option.\\xa0Run\\xa0it\\xa0as\\xa0a\\xa0microservice\\xa0(HTTP/SSE).\\xa0POST\\xa0a\\xa0tool\\xa0call\\xa0like\\xa0\\nget_figma_data\\xa0with\\xa0a\\xa0Figma\\xa0link.\\xa0It\\xa0returns\\xa0a\\xa0compact,\\xa0LLM-ready\\xa0bundle\\xa0(layout,\\xa0styles,\\xa0\\ntokens,\\xa0assets)\\xa0built\\xa0for\\xa0code\\xa0generation.\\xa0\\nPros\\xa0\\n● Saves\\xa0time\\xa0compared\\xa0to\\xa0custom\\xa0implementation.\\xa0\\n● Tuned\\xa0for\\xa0agents;\\xa0reduces\\xa0payload\\xa0by\\xa0~90%.\\xa0\\n● HTTP/SSE\\xa0integrates\\xa0easily\\xa0with\\xa0the\\xa0backend.\\xa0\\nCons\\xa0\\n● Adds\\xa0another\\xa0service\\xa0to\\xa0run.\\xa0\\n● Still\\xa0requires\\xa0crafting\\xa0prompts\\xa0and\\xa0code-gen\\xa0policies.\\xa0\\nCompare\\xa0to\\xa0alternatives:\\xa0\\n● Official\\xa0Figma\\xa0Dev\\xa0Mode\\xa0MCP\\xa0Server\\xa0(desktop):\\xa0For\\xa0local\\xa0IDEs/agents\\xa0only.\\xa0Runs\\xa0at\\xa0\\n127.0.0.1:3845/mcp\\xa0with\\xa0tools\\xa0like\\xa0get_code.\\xa0Not\\xa0suitable\\xa0for\\xa0hosted\\xa0web\\xa0apps.\\xa0\\n● Framelink\\xa0figma-developer-mcp\\xa0(npm):\\xa0Hostable\\xa0anywhere.\\xa0Calls\\xa0Figma\\xa0REST\\xa0API,\\xa0\\ncompacts\\xa0data,\\xa0and\\xa0uses\\xa0HTTP/SSE\\xa0endpoints\\xa0(/sse,\\xa0/messages).\\xa0Tool:\\xa0get_figma_data\\xa0\\n(pass\\xa0shared\\xa0Figma\\xa0link).'),\n",
       " Document(metadata={'producer': 'Skia/PDF m129', 'creator': 'Mozilla/5.0 (X11; Linux x86_64) AppleWebKit/537.36 (KHTML, like Gecko) HeadlessChrome/129.0.0.0 Safari/537.36', 'creationdate': '2025-09-02T12:12:23+00:00', 'title': 'Figma Document', 'moddate': '2025-09-02T12:12:23+00:00', 'source': '../data/pdf/Figma Document.pdf', 'total_pages': 11, 'page': 10, 'page_label': '11', 'source_file': 'Figma Document.pdf', 'file_type': 'pdf'}, page_content='It\\xa0trims\\xa0the\\xa0raw\\xa0Figma\\xa0graph\\xa0to\\xa0essential\\xa0bits,\\xa0making\\xa0it\\xa0ideal\\xa0over\\xa0raw\\xa0REST.\\xa0\\nStep-by-Step\\xa0Integration\\xa0of\\xa0figma-developer-mcp\\xa0\\nOverall\\xa0Flow\\xa0\\n● Frontend:\\xa0User\\xa0enters\\xa0prompt\\xa0+\\xa0Figma\\xa0URL\\xa0→\\xa0calls\\xa0/agent.\\xa0\\n● Backend\\xa0/agent:\\xa0\\n○ Extract\\xa0fileKey/nodeId\\xa0(optional;\\xa0pass\\xa0full\\xa0URL\\xa0to\\xa0MCP).\\xa0\\n○ Call\\xa0Framelink\\xa0MCP\\xa0over\\xa0HTTP/SSE\\xa0with\\xa0get_figma_data\\xa0and\\xa0the\\xa0link.\\xa0\\n○ Receive\\xa0compacted\\xa0design\\xa0context\\xa0JSON\\xa0(+\\xa0optional\\xa0screenshots/assets).\\xa0\\n○ Feed\\xa0context\\xa0to\\xa0LLM\\xa0in\\xa0the\\xa0stream\\xa0(we\\xa0already\\xa0support\\xa0streaming).\\xa0\\nSetup\\xa0\\n1 . Install\\xa0and\\xa0Run\\xa0the\\xa0MCP\\xa0Server\\xa0in\\xa0HTTP/SSE\\xa0Mode:\\xa0\\n○. Install:\\xa0npm\\xa0i\\xa0-g\\xa0figma-developer-mcp\\xa0(or\\xa0use\\xa0npx).\\xa0\\n○. Set\\xa0env:\\xa0FIGMA_API_KEY=<pat>\\xa0(scopes:\\xa0File\\xa0Content\\xa0+\\xa0Dev\\xa0\\nResources).</pat>\\xa0\\n○. Start\\xa0on\\xa0an\\xa0internal\\xa0port\\xa0(e.g.,\\xa07345)\\xa0in\\xa0HTTP/SSE\\xa0mode.\\xa0\\n○. Endpoints:\\xa0GET\\xa0/sse\\xa0(subscribe\\xa0to\\xa0events),\\xa0POST\\xa0/messages\\xa0(send\\xa0MCP\\xa0\\nmessages\\xa0like\\xa0tool\\xa0invocations).\\xa0\\n○. Configure\\xa0auth/allowlist\\xa0per\\xa0docs\\xa0(see\\xa0\"Alternative\\xa0Server\\xa0Configurations\").\\xa0\\nThe\\xa0npm\\xa0readme\\xa0covers\\xa0stdio\\xa0for\\xa0IDEs;\\xa0use\\xa0HTTP/SSE\\xa0mode\\xa0for\\xa0web\\xa0backends\\xa0as\\xa0per\\xa0\\nFramelink\\xa0docs.'),\n",
       " Document(metadata={'producer': 'Microsoft® Word for Microsoft 365', 'creator': 'Microsoft® Word for Microsoft 365', 'creationdate': '2025-07-21T12:59:58+00:00', 'moddate': '2025-07-21T12:59:58+00:00', 'source': '../data/pdf/HR Policy_2025 Final.pdf', 'total_pages': 7, 'page': 0, 'page_label': '1', 'source_file': 'HR Policy_2025 Final.pdf', 'file_type': 'pdf'}, page_content='Page 1 of 7 \\n \\n \\n \\n \\n \\n \\n \\n \\nHR Policy \\nCreated Date: 1st  Jan 2025'),\n",
       " Document(metadata={'producer': 'Microsoft® Word for Microsoft 365', 'creator': 'Microsoft® Word for Microsoft 365', 'creationdate': '2025-07-21T12:59:58+00:00', 'moddate': '2025-07-21T12:59:58+00:00', 'source': '../data/pdf/HR Policy_2025 Final.pdf', 'total_pages': 7, 'page': 1, 'page_label': '2', 'source_file': 'HR Policy_2025 Final.pdf', 'file_type': 'pdf'}, page_content=\"Page 2 of 7 \\n \\nSection 1: Office Timings and Attendance \\nCompany believes and promotes a disciplinary life whether it is personal or professional. Discipline \\nis a way of life, where one tries to be on time and live in a systematic way. \\n \\nOffice Timings: \\n- Office timing is 10:00 AM to 7:30 PM. \\n- Here, 10:00 AM to 10:30 AM is flexible time to accommodate any unexpected delay in \\nreaching office. \\n- Shift timing can be changed either on permanent or on temporary basis depending on \\nthe work requirements. Based on client requirement will take decision of your shift \\nbased on multiple parameters like profile, responsibility, clients etc. \\n \\nBreaks: \\n- Lunch break time is 45 mins (1:30 PM- 2:15 PM). \\n- Tea Break /Evening break time is 15mins. \\n \\nWorking Hours (Clocked in hours): \\n- You MUST clock in 8 hours 30 mins everyday i.e. you must have 8hrs and 30mins as \\nyour working hours in your tracker. \\n- If your working hours (8 hours 30 mins on development floor) is not completed, then \\ncount as a half day. \\n- If you are taking half day leave must be completed 4:30 min working hrs in your \\ntracker. \\n- If you will not completed your working hours in tracker then we are not responsible \\nfor your half/full day leave. \\n \\nKeeping in mind for learning purpose and employee Engagement Activities we are working on  \\nLast Saturday of the Month for 10:00 AM to 2:00 PM only. \\n \\nSection 2: Leave and WFH Policy \\nThe main objective of the policy is to provide Employees with guidelines regarding the \\ncompany's approach to Employee’s well‐being, to manage absence and discourage \\nunplanned/unauthorized leaves. \\n \\nLeaves: \\n-  We always promote planned leaves making sure that your work and delegation is well \\nmanaged before you proceed for the leaves. \\n- There is no bifurcation of leaves like Casual, Sick etc. and so you can have flexibility to \\ntake leaves under any category. \\n- All employees shall be entitled for 12 days of Planned Leaves per calendar year. \\n- If you applied for a leave but due to some reasons like client requirements, deadline \\nmight, etc might be it will not approved.\"),\n",
       " Document(metadata={'producer': 'Microsoft® Word for Microsoft 365', 'creator': 'Microsoft® Word for Microsoft 365', 'creationdate': '2025-07-21T12:59:58+00:00', 'moddate': '2025-07-21T12:59:58+00:00', 'source': '../data/pdf/HR Policy_2025 Final.pdf', 'total_pages': 7, 'page': 2, 'page_label': '3', 'source_file': 'HR Policy_2025 Final.pdf', 'file_type': 'pdf'}, page_content='Page 3 of 7 \\n \\n➢ Process for Planned Leaves \\nThe Employee has to apply leave as per the below guidelines: \\n- The leave application has to be made in HRM, 5 working days in advance for leave \\nduration  \\nOf 1 day, with specific reason clearly mentioned. \\n- The leave application has to be made in HRMS, 10-12 working days in advance for \\nleaves of  \\n2-3 days, with specific reason clearly mentioned. \\n- For long vacation or marriage leave you have to apply before 1 months ago. (For \\nvacation before book your tickets discuss with your TL). \\n- Employee’s responsibilities to take approval from respective TL and HR for their \\nleaves. \\n- Earlier leave approve only for 1:30 hrs (i.e you can leave at 6:00 PM) and late coming \\nis approve only for 1:30 hrs (i.e you can come at 11:30 AM).  \\n- For Earlier leave or late coming must be inform to your TL and HR priory a day ago.  \\n \\n➢ Process for Emergency Leaves \\nThe Employee has to apply leave as per the below guidelines: \\n \\n- In case of any medical emergency leave, Employee (By self / Relative) has to inform \\nhis/her Immediate TL / HR by phone call / mail or Skype message only before the day’s \\nreporting hour. (For Example, if shift timing is from 10:00 AM to 7:30 PM, Employee \\nneeds to inform before 10:00 AM). \\n \\n➢ Cancellation of Leave \\n \\n- Employees has to be inform to HR and TL about your cancel leave. \\n \\n➢ Yearly Pending Leaves \\n- Please note that leave encashment is not guaranteed and will be decided solely by \\nthe management based on company policies and business circumstances. If approved, \\nthe encashment amount may be processed at either full salary or half salary, as per \\nmanagement’s discretion. \\n- If any employee is leaving company before encashment month then his / her pending \\nleaves will not be encash. \\n \\nWFH: \\n- We are not providing any WFH but if you want then must be you are working in \\ndedicated client and you will do your work properly. Who has project dependency and \\ndoing R&D then we will not allow WFH in these cases. \\n- For WFH you have to take a permission of your TL after that inform to HR and add it in \\nHRM System. \\n- In WFH any type of system issue will be come or any asset is damage then he/she will \\nbe responsible for that issue.'),\n",
       " Document(metadata={'producer': 'Microsoft® Word for Microsoft 365', 'creator': 'Microsoft® Word for Microsoft 365', 'creationdate': '2025-07-21T12:59:58+00:00', 'moddate': '2025-07-21T12:59:58+00:00', 'source': '../data/pdf/HR Policy_2025 Final.pdf', 'total_pages': 7, 'page': 3, 'page_label': '4', 'source_file': 'HR Policy_2025 Final.pdf', 'file_type': 'pdf'}, page_content='Page 4 of 7 \\n \\n \\nSection 3: Appraisal Policy \\nWe always appreciate the good work and dedication towards the work. We believe quality \\nwork and less rework will result in more productivity. \\n \\n- We have yearly appraisal cycle starting from the joining date where you will be \\nappraised in salary and/or designation and/or responsibilities based on your past year \\nperformance, potential to perform in coming year and the skillsets you have newly \\nadopted. \\n- To be eligible to have salary appraisal, one MUST complete 12 working months into \\nthe company. \\n- This excludes extended leaves or any other reasons. \\n- For new employee, if you are joined after 15th date of month then appraisal month \\nwill be count from next month. i.e if you will join us from 16th Jan 2025 then your \\nnext increment will be on Feb 2026 \\n- With your appraisal, you would be entitled to serve the company for at least 12 \\nmonths  \\nStarting from the effective appraisal month. No resignation will be accepted for 10 \\nmonths from your appraisal date and doing so will be considered the breach of \\ncompany appraisal policy where by your appraisal salary (Increment amount) will be \\nforfeit and the amount will be adjusted in Full & Final settlement. \\n \\nSection 4: Exit Policy \\n- In the event of end of employment, one has to write an email to HR which will be \\nconsidered as resignation. The resignation acceptance is solely management’s \\ndecision including the relieving date. \\n- Employee MUST serve 2 months of notice period from the day of resignation. Notice \\nperiod may get extended based on work assignment and handover time required. The \\nfinal decision will stay with the HR Team for the same and employee is abide by the \\ndecision. \\n- The notice period is compulsory and bound to legal action in case not followed by \\nemployee. \\n- There is no provision of any kind of leaves during notice period. You can’t get any \\ncredited leaves if you will resign. The sole purpose of notice period duration is to \\ncomplete the handover process fully so project progress and client deliveries can be \\nexecuted without any impact. \\n- The HR Team can also reduce the notice period based on the handover time required. \\nThe sole decision remains with HR Team. \\n- If employee takes any unplanned/emergency or any type of leaves in notice period, \\nthe notice period will get extended with those many working days and the relieving \\ndate will be extended. Any relieving date communicated in prior by the HR Team will \\nbe revised. \\n- The leave eligibility will be recalculated for the employee based on his/her present'),\n",
       " Document(metadata={'producer': 'Microsoft® Word for Microsoft 365', 'creator': 'Microsoft® Word for Microsoft 365', 'creationdate': '2025-07-21T12:59:58+00:00', 'moddate': '2025-07-21T12:59:58+00:00', 'source': '../data/pdf/HR Policy_2025 Final.pdf', 'total_pages': 7, 'page': 4, 'page_label': '5', 'source_file': 'HR Policy_2025 Final.pdf', 'file_type': 'pdf'}, page_content=\"Page 5 of 7 \\n \\ndays. Number of leaves consumed above eligible balance will be deducted on gross \\nsalary from Full and Final settlement. \\n- You are expected to handover all the knowledge base, documents, code, credentials \\nto company in the notice you serve with company. You should not be accessing any \\nkind of tools, emails, software, projects from outside after you have been relieved. \\nDoing so will be considered the breach of company policy and you will have to face \\nlegal actions. \\n- All manuals, literature, systems, projects, documents etc. developed by you, while in \\ncompany service will at all times deemed to be the sole legal property of the \\ncompany. \\n- You are required to maintain utmost confidentiality and non-discloser in respect of all \\nthe matters, reports, operations, project stakeholders – Internal or external you may \\ncome in contact with during the course of your employment with company and after \\nthat for next at least 3 years. As a part of exit process, you need to sign a None \\nDisclosure Agreement.  \\n \\nSection 5: Termination Policy \\n- In the event of any discrepancy or untrue information found in your candidature or \\nresume or documents submitted, willful neglect of your duties, breach of trust, gross \\nindiscipline or any other serious dereliction of duties that may be prejudicial to the \\ninterests of the Company, or poor performance measured by Company, the Company \\nhas the discretion to immediately terminate your services forthwith or with such \\nnotice as it deems fit and without any pay whatsoever. \\n- You expressly acknowledge and recognize that notice period is a key condition to the \\nemployment. Any payment in lieu of notice, shall be as per Company policy and as \\ndetermined by the Company in the specific circumstances. \\n- In the event of termination, company is not liable to provide any kind of salary, \\ncheque or any settlement and have zero liability with immediate effect. \\n- If an Employee remains absent from the duty without authorization or any kind of \\nintimation to HR Team for 3 consecutive days, it will be presumed that the Employee \\nhas abandoned his/her services. \\n- In such cases, the company will have the right to terminate the Employee's services \\nand strike off his/her name from the company. In such case, above Termination policy \\nwill be applicable. \\n \\n \\n Keep in mind – To do:  \\n \\n- Execute Company’s business with Trust, honesty, accountability and integrity which \\ncreates and protects Company's goodwill and reputation.  \\n-  In addition to being a valuable asset of the organization, the team member is also the \\nbrand ambassador. The conduct, behavior and the personal appearance of the team \\nmember reflects on him/her as well as the organization.\"),\n",
       " Document(metadata={'producer': 'Microsoft® Word for Microsoft 365', 'creator': 'Microsoft® Word for Microsoft 365', 'creationdate': '2025-07-21T12:59:58+00:00', 'moddate': '2025-07-21T12:59:58+00:00', 'source': '../data/pdf/HR Policy_2025 Final.pdf', 'total_pages': 7, 'page': 5, 'page_label': '6', 'source_file': 'HR Policy_2025 Final.pdf', 'file_type': 'pdf'}, page_content='Page 6 of 7 \\n \\n- Team members should maintain the confidentiality of confidential information \\nentrusted to them in carrying out their duties and responsibilities, except where \\ndisclosure is approved by the Company or legally mandated or if such information is \\nalready in the public domain. Confidential information includes all non-public \\ninformation that might be of use to competitors, or harmful to the Company or its \\ncustomers, if disclosed. The Company’s confidential information shall not be \\ninappropriately disclosed or used for the personal gain or advantage of anyone other \\nthan the Company.  \\n- Please do keep your Mobile Phones on silent mode in office premises. \\n- Put your mobiles in given rack near your seat. \\n- Lock your screen when you leave your seat and off the computer properly at the end \\nof day. \\n- Do keep your desk very clean and manage your important papers in good manner. \\nEnsure there are no confidential documents on your desk at the end of the day.  \\n \\nKeep in mind – NOT to do: \\n \\n- Do not talk loudly in office.  \\n- Do not attend mobile calls in development area, it can be attended in outside corridor \\nif necessary. \\n- Do not put mobiles on desk. \\n- Do not carry your office laptop at home without TL Permission.  \\n- Do not play loud radio or music in development area. \\n- Do not use any social media application in your mobile or laptop. \\n- Do not download anything from internet without authorization.  \\n- Do not use office internet for personal accordance.  \\n- Do not bring/plug/install any external devices.  \\n- Do not eat/spit tobacco or smoke in the office and in whole premises. \\n \\n \\nHuman Resources function own this policy. In case of any dispute, on the policy HR or Management \\nshould be contacted and the decision will be binding. For any discrepancy or dispute, Management \\ndecision will be the final one. \\n \\nManagement reserves the right to change the policy without prior notice. Any deviation/exception \\nneeds to be approved by the decision-making authority. \\n \\n**This document is intellectual property of LogicRays. This is strictly confidential and not to be \\ndisclosed anywhere. The policy is one to one between Company and Employee. Copying this policy \\nor showing/sharing/discussing outside the office premises attracts legal action.'),\n",
       " Document(metadata={'producer': 'Microsoft® Word for Microsoft 365', 'creator': 'Microsoft® Word for Microsoft 365', 'creationdate': '2025-07-21T12:59:58+00:00', 'moddate': '2025-07-21T12:59:58+00:00', 'source': '../data/pdf/HR Policy_2025 Final.pdf', 'total_pages': 7, 'page': 6, 'page_label': '7', 'source_file': 'HR Policy_2025 Final.pdf', 'file_type': 'pdf'}, page_content='Page 7 of 7 \\n \\n \\n \\n \\n \\n \\n \\n \\n \\n \\n \\n \\n \\n \\n \\n \\n \\n \\n \\n \\n \\n \\n \\n \\n \\n \\nThank You')]"
      ]
     },
     "execution_count": 3,
     "metadata": {},
     "output_type": "execute_result"
    }
   ],
   "source": [
    "all_pdf_documents"
   ]
  },
  {
   "cell_type": "code",
   "execution_count": 9,
   "id": "d4ffcb3f",
   "metadata": {},
   "outputs": [],
   "source": [
    "### Text splitting get into chunks\n",
    "\n",
    "def split_documents(documents,chunk_size=1000,chunk_overlap=200):\n",
    "    \"\"\"Split documents into smaller chunks for better RAG performance\"\"\"\n",
    "    text_splitter = RecursiveCharacterTextSplitter(\n",
    "        chunk_size=chunk_size,\n",
    "        chunk_overlap=chunk_overlap,\n",
    "        length_function=len,\n",
    "        separators=[\"\\n\\n\", \"\\n\", \" \", \"\"]\n",
    "    )\n",
    "    split_docs = text_splitter.split_documents(documents)\n",
    "    print(f\"Split {len(documents)} documents into {len(split_docs)} chunks\")\n",
    "    \n",
    "    # Show example of a chunk\n",
    "    if split_docs:\n",
    "        print(f\"\\nExample chunk:\")\n",
    "        print(f\"Content: {split_docs[0].page_content[:200]}...\")\n",
    "        print(f\"Metadata: {split_docs[0].metadata}\")\n",
    "    \n",
    "    return split_docs"
   ]
  },
  {
   "cell_type": "code",
   "execution_count": 10,
   "id": "623e4090",
   "metadata": {},
   "outputs": [
    {
     "name": "stdout",
     "output_type": "stream",
     "text": [
      "Split 19 documents into 43 chunks\n",
      "\n",
      "Example chunk:\n",
      "Content: Raghav Patel\n",
      "Anand,Gujarat\n",
      "/ne+91-7862814968 patelraghav014@gmail.com Raghav Patel /gtbraghavpatel2507\n",
      "SUMMARY\n",
      "experience in leveraging Generative AI, Machine Learning, and Deep Learningto solve compl...\n",
      "Metadata: {'producer': 'pdfTeX-1.40.23', 'creator': 'LaTeX with hyperref', 'creationdate': '2025-07-21T10:36:26+00:00', 'author': '', 'keywords': '', 'moddate': '2025-07-21T10:36:26+00:00', 'ptex.fullbanner': 'This is pdfTeX, Version 3.141592653-2.6-1.40.23 (TeX Live 2021) kpathsea version 6.3.3', 'subject': '', 'title': '', 'trapped': '/False', 'source': '../data/pdf/RAGHAV-RESUME.pdf', 'total_pages': 1, 'page': 0, 'page_label': '1', 'source_file': 'RAGHAV-RESUME.pdf', 'file_type': 'pdf'}\n"
     ]
    },
    {
     "data": {
      "text/plain": [
       "[Document(metadata={'producer': 'pdfTeX-1.40.23', 'creator': 'LaTeX with hyperref', 'creationdate': '2025-07-21T10:36:26+00:00', 'author': '', 'keywords': '', 'moddate': '2025-07-21T10:36:26+00:00', 'ptex.fullbanner': 'This is pdfTeX, Version 3.141592653-2.6-1.40.23 (TeX Live 2021) kpathsea version 6.3.3', 'subject': '', 'title': '', 'trapped': '/False', 'source': '../data/pdf/RAGHAV-RESUME.pdf', 'total_pages': 1, 'page': 0, 'page_label': '1', 'source_file': 'RAGHAV-RESUME.pdf', 'file_type': 'pdf'}, page_content='Raghav Patel\\nAnand,Gujarat\\n/ne+91-7862814968 patelraghav014@gmail.com Raghav Patel /gtbraghavpatel2507\\nSUMMARY\\nexperience in leveraging Generative AI, Machine Learning, and Deep Learningto solve complex busi-\\nness challenges. Proficient in classification, regression, clustering, computer vision (CV), natural language\\nprocessing (NLP), transfer learning, and large language models (LLMs). Demonstrated expertise in designing\\nand deploying advanced AI models to deliver data-driven, impactful solutions.\\nEDUCATION\\nCharotar University of science and technology 06 2021 – 05 2025\\nInformation Technology (IT) -CGPA - 8.76 Anand, India\\nBright Junior Science College 05 2019 – 05 2021\\nHSC Modasa, India\\nTECHNICAL SKILLS\\n• Python • SQL • Generative AI • RAG • LLM • Machine Learning • Deep Learning • NLP • Computer\\nvision • TensorFlow • PyTorch • Keras • Langchain • Langgraph • Yolo • Scikit-learn • NLTK • Pandas\\n• Numpy • Matplotlib • Seaborn • Opencv • AWS • Azure • Git • Github\\nWORK EXPERIENCE'),\n",
       " Document(metadata={'producer': 'pdfTeX-1.40.23', 'creator': 'LaTeX with hyperref', 'creationdate': '2025-07-21T10:36:26+00:00', 'author': '', 'keywords': '', 'moddate': '2025-07-21T10:36:26+00:00', 'ptex.fullbanner': 'This is pdfTeX, Version 3.141592653-2.6-1.40.23 (TeX Live 2021) kpathsea version 6.3.3', 'subject': '', 'title': '', 'trapped': '/False', 'source': '../data/pdf/RAGHAV-RESUME.pdf', 'total_pages': 1, 'page': 0, 'page_label': '1', 'source_file': 'RAGHAV-RESUME.pdf', 'file_type': 'pdf'}, page_content='vision • TensorFlow • PyTorch • Keras • Langchain • Langgraph • Yolo • Scikit-learn • NLTK • Pandas\\n• Numpy • Matplotlib • Seaborn • Opencv • AWS • Azure • Git • Github\\nWORK EXPERIENCE\\nAlpha-e Barcode Solutions Pvt. Ltd. 07 2024 – Ongoing\\nAI-ML Engineer Onsite\\n• Analyzed data, created reports, and provided actionable insights.\\n• Built AI chatbotfor natural language queries and real-time data insights.\\n• Developed voice-based automatic dataentry in ERP.\\niNeuron Intelligence Pvt Ltd 03 2024 – 04 2024\\nMachine Learning Engineer Remote\\n• Researched and designed a scalable crowd detection systemarchitecture.\\n• Collected datasets and implemented object detection for crowd density estimation..\\n• Developed and tested modular code using computer vision techniques.\\nOasis Infobyte 08 2023 – 09 2023\\nData Science Intern Remote\\n• Worked on data-driven projects using Python and machine learning, focusing on classification, analysis, and\\nmodel evaluation.\\nAugmetic Infinite LLP 04 2023 – 06 2023'),\n",
       " Document(metadata={'producer': 'pdfTeX-1.40.23', 'creator': 'LaTeX with hyperref', 'creationdate': '2025-07-21T10:36:26+00:00', 'author': '', 'keywords': '', 'moddate': '2025-07-21T10:36:26+00:00', 'ptex.fullbanner': 'This is pdfTeX, Version 3.141592653-2.6-1.40.23 (TeX Live 2021) kpathsea version 6.3.3', 'subject': '', 'title': '', 'trapped': '/False', 'source': '../data/pdf/RAGHAV-RESUME.pdf', 'total_pages': 1, 'page': 0, 'page_label': '1', 'source_file': 'RAGHAV-RESUME.pdf', 'file_type': 'pdf'}, page_content='Data Science Intern Remote\\n• Worked on data-driven projects using Python and machine learning, focusing on classification, analysis, and\\nmodel evaluation.\\nAugmetic Infinite LLP 04 2023 – 06 2023\\nFront End Developer Remote\\n• Designed and developed an HTML-based interface for seamless website interaction, implementing responsive\\ndesign, and optimizing UI/UX for enhanced user engagement.\\nPROJECTS\\nKidney-Disease-Classification-Deep-Learning | Python,CNN,DVC,MLFLOW,Docker,AWS 01 2024\\n∗ Built a kidney disease classification system with modular coding, MLflow/DVC integration, and a Flask-based\\nprediction interface.\\n∗ Deployed the solution on AWS for scalability and real-time inference.\\nHate Speech Classification-NLP | Python,NLTK,Tensorflow,FastAPI,Tokenization 03 2024\\n∗ Built an end-to-end NLP pipeline for Hate Speech Classification with data processing, model training, and\\nevaluation.\\n∗ Integrated FastAPI for real-time predictions, ensuring scalability and efficient deployment.'),\n",
       " Document(metadata={'producer': 'pdfTeX-1.40.23', 'creator': 'LaTeX with hyperref', 'creationdate': '2025-07-21T10:36:26+00:00', 'author': '', 'keywords': '', 'moddate': '2025-07-21T10:36:26+00:00', 'ptex.fullbanner': 'This is pdfTeX, Version 3.141592653-2.6-1.40.23 (TeX Live 2021) kpathsea version 6.3.3', 'subject': '', 'title': '', 'trapped': '/False', 'source': '../data/pdf/RAGHAV-RESUME.pdf', 'total_pages': 1, 'page': 0, 'page_label': '1', 'source_file': 'RAGHAV-RESUME.pdf', 'file_type': 'pdf'}, page_content='evaluation.\\n∗ Integrated FastAPI for real-time predictions, ensuring scalability and efficient deployment.\\nSign Language Detection Using YOLOV5-CV | Python,Pytorch,YOLOV5,Docker,AWS\\n∗ Developed an end-to-end Sign Language Detection system using YOLOv5, with a Flask-based real-time interface.\\n∗ Deployed the solution on AWS, ensuring scalability and secure cloud infrastructure.'),\n",
       " Document(metadata={'producer': 'Skia/PDF m129', 'creator': 'Mozilla/5.0 (X11; Linux x86_64) AppleWebKit/537.36 (KHTML, like Gecko) HeadlessChrome/129.0.0.0 Safari/537.36', 'creationdate': '2025-09-02T12:12:23+00:00', 'title': 'Figma Document', 'moddate': '2025-09-02T12:12:23+00:00', 'source': '../data/pdf/Figma Document.pdf', 'total_pages': 11, 'page': 0, 'page_label': '1', 'source_file': 'Figma Document.pdf', 'file_type': 'pdf'}, page_content='Document\\xa01\\xa0\\nFigma-to-Code\\xa0System\\xa0Prompt\\xa0\\nYou\\xa0are\\xa0an\\xa0expert\\xa0frontend\\xa0developer\\xa0tasked\\xa0with\\xa0converting\\xa0Figma\\xa0designs\\xa0to\\xa0pixel-perfect\\xa0\\ncode.\\xa0You\\xa0will\\xa0receive\\xa0Figma\\xa0context\\xa0data\\xa0containing\\xa0design\\xa0specifications,\\xa0and\\xa0must\\xa0recreate\\xa0\\nthe\\xa0exact\\xa0visual\\xa0design.\\xa0\\nContext\\xa0Structure\\xa0Understanding\\xa0\\nThe\\xa0provided\\xa0context\\xa0contains:\\xa0\\n● metadata:\\xa0Design\\xa0file\\xa0information\\xa0and\\xa0component\\xa0registry\\xa0\\n● nodes:\\xa0Hierarchical\\xa0structure\\xa0of\\xa0all\\xa0design\\xa0elements\\xa0\\n● globalVars:\\xa0Styles,\\xa0layouts,\\xa0fills,\\xa0effects,\\xa0and\\xa0typography\\xa0definitions\\xa0\\nCritical\\xa0Implementation\\xa0Rules\\xa0\\n1.\\xa0Hierarchy\\xa0and\\xa0Structure\\xa0\\n● Follow\\xa0the\\xa0exact\\xa0node\\xa0hierarchy\\xa0from\\xa0nodes\\xa0array\\xa0\\n● Each\\xa0node\\xa0has\\xa0type\\xa0(FRAME,\\xa0GROUP,\\xa0TEXT,\\xa0RECTANGLE,\\xa0etc.)\\xa0that\\xa0determines\\xa0\\nHTML\\xa0structure\\xa0\\n● Preserve\\xa0parent-child\\xa0relationships\\xa0exactly\\xa0as\\xa0specified\\xa0\\n● Use\\xa0children\\xa0arrays\\xa0to\\xa0nest\\xa0elements\\xa0correctly\\xa0\\n2.\\xa0Layout\\xa0System\\xa0\\n● Positioning:\\xa0Use\\xa0locationRelativeToParent\\xa0(x,\\xa0y\\xa0coordinates)\\xa0for\\xa0precise\\xa0\\npositioning\\xa0\\n● Dimensions:\\xa0Apply\\xa0exact\\xa0width\\xa0and\\xa0height\\xa0from\\xa0layout\\xa0data'),\n",
       " Document(metadata={'producer': 'Skia/PDF m129', 'creator': 'Mozilla/5.0 (X11; Linux x86_64) AppleWebKit/537.36 (KHTML, like Gecko) HeadlessChrome/129.0.0.0 Safari/537.36', 'creationdate': '2025-09-02T12:12:23+00:00', 'title': 'Figma Document', 'moddate': '2025-09-02T12:12:23+00:00', 'source': '../data/pdf/Figma Document.pdf', 'total_pages': 11, 'page': 1, 'page_label': '2', 'source_file': 'Figma Document.pdf', 'file_type': 'pdf'}, page_content='● Mode:\\xa0Respect\\xa0layout\\xa0modes\\xa0(none,\\xa0auto,\\xa0etc.)\\xa0\\n● Implement\\xa0absolute\\xa0positioning\\xa0where\\xa0coordinates\\xa0are\\xa0specified\\xa0\\n● Convert\\xa0Figma\\xa0coordinates\\xa0to\\xa0CSS\\xa0positioning\\xa0(top,\\xa0left,\\xa0width,\\xa0height)\\xa0\\n3.\\xa0Styling\\xa0Application\\xa0\\n● Colors:\\xa0Extract\\xa0from\\xa0fill_*\\xa0references\\xa0in\\xa0globalVars\\xa0\\n○ Solid\\xa0colors:\\xa0Use\\xa0hex\\xa0values\\xa0directly\\xa0\\n○ Gradients:\\xa0Convert\\xa0gradient\\xa0specifications\\xa0to\\xa0CSS\\xa0gradients\\xa0\\n○ Images:\\xa0Handle\\xa0image\\xa0fills\\xa0with\\xa0proper\\xa0background\\xa0properties\\xa0\\n● Typography:\\xa0Map\\xa0style_*\\xa0references\\xa0to\\xa0CSS\\xa0font\\xa0properties\\xa0\\n○ fontFamily,\\xa0fontWeight,\\xa0fontSize,\\xa0lineHeight\\xa0\\n○ textAlignHorizontal\\xa0→\\xa0text-align\\xa0\\n○ textAlignVertical\\xa0→\\xa0vertical\\xa0alignment\\xa0properties\\xa0\\n● Border\\xa0Radius:\\xa0Apply\\xa0borderRadius\\xa0values\\xa0exactly\\xa0\\n● Effects:\\xa0Convert\\xa0effect_*\\xa0to\\xa0CSS\\xa0equivalents\\xa0(box-shadow,\\xa0filters)\\xa0\\n4.\\xa0Component\\xa0Handling\\xa0\\n● Identify\\xa0COMPONENT\\xa0and\\xa0INSTANCE\\xa0types\\xa0\\n● Reuse\\xa0component\\xa0definitions\\xa0for\\xa0instances\\xa0\\n● Map\\xa0componentId\\xa0references\\xa0to\\xa0actual\\xa0components\\xa0\\n● Handle\\xa0component\\xa0variations\\xa0and\\xa0overrides\\xa0\\n5.\\xa0Image\\xa0Processing'),\n",
       " Document(metadata={'producer': 'Skia/PDF m129', 'creator': 'Mozilla/5.0 (X11; Linux x86_64) AppleWebKit/537.36 (KHTML, like Gecko) HeadlessChrome/129.0.0.0 Safari/537.36', 'creationdate': '2025-09-02T12:12:23+00:00', 'title': 'Figma Document', 'moddate': '2025-09-02T12:12:23+00:00', 'source': '../data/pdf/Figma Document.pdf', 'total_pages': 11, 'page': 1, 'page_label': '2', 'source_file': 'Figma Document.pdf', 'file_type': 'pdf'}, page_content='● Reuse\\xa0component\\xa0definitions\\xa0for\\xa0instances\\xa0\\n● Map\\xa0componentId\\xa0references\\xa0to\\xa0actual\\xa0components\\xa0\\n● Handle\\xa0component\\xa0variations\\xa0and\\xa0overrides\\xa0\\n5.\\xa0Image\\xa0Processing\\xa0\\n● Extract\\xa0image\\xa0references\\xa0from\\xa0imageRef\\xa0fields\\xa0\\n● Handle\\xa0scaleMode\\xa0(FILL,\\xa0FIT,\\xa0etc.)\\xa0→\\xa0CSS\\xa0object-fit\\xa0\\n● Apply\\xa0objectFit\\xa0and\\xa0background\\xa0properties\\xa0correctly\\xa0\\n● Implement\\xa0proper\\xa0image\\xa0loading\\xa0and\\xa0fallbacks\\xa0\\n6.\\xa0Color\\xa0System\\xa0\\n● Parse\\xa0fill\\xa0arrays\\xa0for\\xa0multiple\\xa0color\\xa0layers\\xa0\\n● Handle\\xa0transparency\\xa0and\\xa0opacity\\xa0\\n● Apply\\xa0stroke\\xa0colors\\xa0and\\xa0weights\\xa0accurately'),\n",
       " Document(metadata={'producer': 'Skia/PDF m129', 'creator': 'Mozilla/5.0 (X11; Linux x86_64) AppleWebKit/537.36 (KHTML, like Gecko) HeadlessChrome/129.0.0.0 Safari/537.36', 'creationdate': '2025-09-02T12:12:23+00:00', 'title': 'Figma Document', 'moddate': '2025-09-02T12:12:23+00:00', 'source': '../data/pdf/Figma Document.pdf', 'total_pages': 11, 'page': 2, 'page_label': '3', 'source_file': 'Figma Document.pdf', 'file_type': 'pdf'}, page_content='● Maintain\\xa0exact\\xa0color\\xa0values\\xa0from\\xa0hex\\xa0codes\\xa0\\n7.\\xa0Responsive\\xa0Considerations\\xa0\\n● Maintain\\xa0fixed\\xa0dimensions\\xa0when\\xa0specified\\xa0\\n● Implement\\xa0proper\\xa0overflow\\xa0handling\\xa0\\n● Ensure\\xa0container\\xa0relationships\\xa0work\\xa0across\\xa0screen\\xa0sizes\\xa0\\nQuality\\xa0Assurance\\xa0Checklist\\xa0\\n● [\\xa0]\\xa0All\\xa0elements\\xa0positioned\\xa0exactly\\xa0as\\xa0in\\xa0Figma\\xa0\\n● [\\xa0]\\xa0Colors\\xa0match\\xa0exactly\\xa0(hex\\xa0values\\xa0preserved)\\xa0\\n● [\\xa0]\\xa0Typography\\xa0styles\\xa0applied\\xa0correctly\\xa0\\n● [\\xa0]\\xa0Images\\xa0display\\xa0with\\xa0correct\\xa0scaling\\xa0and\\xa0positioning\\xa0\\n● [\\xa0]\\xa0Border\\xa0radius\\xa0and\\xa0effects\\xa0replicated\\xa0\\n● [\\xa0]\\xa0Component\\xa0structure\\xa0maintained\\xa0\\n● [\\xa0]\\xa0Interactive\\xa0elements\\xa0properly\\xa0implemented\\xa0\\n● [\\xa0]\\xa0No\\xa0layout\\xa0shifts\\xa0or\\xa0misalignments\\xa0\\n● [\\xa0]\\xa0Clean,\\xa0maintainable\\xa0code\\xa0structure\\xa0\\nCommon\\xa0Pitfalls\\xa0to\\xa0Avoid\\xa0\\n1 . Coordinate\\xa0System:\\xa0Figma\\xa0uses\\xa0top-left\\xa0origin;\\xa0ensure\\xa0proper\\xa0CSS\\xa0translation\\xa0\\n2 . Font\\xa0Loading:\\xa0Include\\xa0proper\\xa0font\\xa0imports\\xa0for\\xa0custom\\xa0fonts\\xa0\\n3 . Image\\xa0Paths:\\xa0Handle\\xa0image\\xa0references\\xa0correctly\\xa0based\\xa0on\\xa0available\\xa0assets\\xa0\\n4 . Z-Index:\\xa0Maintain\\xa0proper\\xa0layering\\xa0based\\xa0on\\xa0node\\xa0order'),\n",
       " Document(metadata={'producer': 'Skia/PDF m129', 'creator': 'Mozilla/5.0 (X11; Linux x86_64) AppleWebKit/537.36 (KHTML, like Gecko) HeadlessChrome/129.0.0.0 Safari/537.36', 'creationdate': '2025-09-02T12:12:23+00:00', 'title': 'Figma Document', 'moddate': '2025-09-02T12:12:23+00:00', 'source': '../data/pdf/Figma Document.pdf', 'total_pages': 11, 'page': 2, 'page_label': '3', 'source_file': 'Figma Document.pdf', 'file_type': 'pdf'}, page_content=\"3 . Image\\xa0Paths:\\xa0Handle\\xa0image\\xa0references\\xa0correctly\\xa0based\\xa0on\\xa0available\\xa0assets\\xa0\\n4 . Z-Index:\\xa0Maintain\\xa0proper\\xa0layering\\xa0based\\xa0on\\xa0node\\xa0order\\xa0\\n5 . Overflow:\\xa0Apply\\xa0appropriate\\xa0overflow\\xa0properties\\xa0for\\xa0containers\\xa0\\n6 . Component\\xa0Props:\\xa0Don't\\xa0hardcode\\xa0values\\xa0that\\xa0should\\xa0be\\xa0dynamic\\xa0in\\xa0components\\xa0\\nOutput\\xa0Requirements\\xa0\\nGenerate\\xa0production-ready\\xa0code\\xa0that:\\xa0\\n● Recreates\\xa0the\\xa0design\\xa0with\\xa0pixel-perfect\\xa0accuracy\\xa0\\n● Uses\\xa0clean,\\xa0semantic\\xa0HTML\\xa0structure\"),\n",
       " Document(metadata={'producer': 'Skia/PDF m129', 'creator': 'Mozilla/5.0 (X11; Linux x86_64) AppleWebKit/537.36 (KHTML, like Gecko) HeadlessChrome/129.0.0.0 Safari/537.36', 'creationdate': '2025-09-02T12:12:23+00:00', 'title': 'Figma Document', 'moddate': '2025-09-02T12:12:23+00:00', 'source': '../data/pdf/Figma Document.pdf', 'total_pages': 11, 'page': 3, 'page_label': '4', 'source_file': 'Figma Document.pdf', 'file_type': 'pdf'}, page_content='● Implements\\xa0responsive\\xa0and\\xa0maintainable\\xa0CSS\\xa0\\n● Includes\\xa0proper\\xa0component\\xa0architecture\\xa0\\n● Handles\\xa0all\\xa0interactive\\xa0elements\\xa0\\n● Provides\\xa0fallbacks\\xa0for\\xa0missing\\xa0assets\\xa0\\n● Is\\xa0optimized\\xa0for\\xa0performance\\xa0and\\xa0accessibility\\xa0\\nRemember:\\xa0The\\xa0goal\\xa0is\\xa0100%\\xa0visual\\xa0fidelity\\xa0to\\xa0the\\xa0original\\xa0Figma\\xa0design\\xa0while\\xa0producing\\xa0clean,\\xa0\\nmaintainable\\xa0code.'),\n",
       " Document(metadata={'producer': 'Skia/PDF m129', 'creator': 'Mozilla/5.0 (X11; Linux x86_64) AppleWebKit/537.36 (KHTML, like Gecko) HeadlessChrome/129.0.0.0 Safari/537.36', 'creationdate': '2025-09-02T12:12:23+00:00', 'title': 'Figma Document', 'moddate': '2025-09-02T12:12:23+00:00', 'source': '../data/pdf/Figma Document.pdf', 'total_pages': 11, 'page': 4, 'page_label': '5', 'source_file': 'Figma Document.pdf', 'file_type': 'pdf'}, page_content=\"Docuemnt\\xa02 \\xa0 \\xa0 \\n\\xa0 \\nConverting\\xa0Figma\\xa0Designs\\xa0into\\xa0Code\\xa0with\\xa0\\nAI\\xa0\\nConverting\\xa0a\\xa0Figma\\xa0design\\xa0into\\xa0code\\xa0using\\xa0an\\xa0LLM\\xa0(Large\\xa0Language\\xa0Model)\\xa0is\\xa0possible,\\xa0but\\xa0it\\xa0\\nrequires\\xa0providing\\xa0the\\xa0model\\xa0with\\xa0clear\\xa0design\\xa0context.\\xa0\\nTo\\xa0achieve\\xa0this,\\xa0we\\xa0need\\xa0to\\xa0fetch\\xa0the\\xa0design\\xa0data\\xa0(layouts,\\xa0layers,\\xa0styles)\\xa0from\\xa0Figma\\xa0and\\xa0pass\\xa0it\\xa0\\nto\\xa0the\\xa0AI.\\xa0This\\xa0can\\xa0be\\xa0done\\xa0in\\xa0two\\xa0ways:\\xa0\\n1 . Calling\\xa0Figma’s\\xa0REST\\xa0API\\xa0\\n2 . Using\\xa0a\\xa0bridge\\xa0such\\xa0as\\xa0an\\xa0MCP\\xa0server\\xa0(Model\\xa0Context\\xa0Protocol)\\n\\xa0\\nFigma\\xa0also\\xa0provides\\xa0a\\xa0Dev\\xa0Mode\\xa0MCP\\xa0server\\xa0inside\\xa0its\\xa0desktop\\xa0app.\\xa0However,\\xa0that\\xa0server\\xa0only\\xa0\\nworks\\xa0locally\\xa0and\\xa0cannot\\xa0be\\xa0used\\xa0directly\\xa0in\\xa0a\\xa0web\\xa0application.\\xa0\\nIn\\xa0any\\xa0case,\\xa0the\\xa0basic\\xa0idea\\xa0is:\\xa0\\n● Take\\xa0the\\xa0Figma\\xa0file\\xa0ID\\xa0\\n● Retrieve\\xa0the\\xa0design’s\\xa0JSON\\xa0data\\xa0or\\xa0assets\\xa0\\n● Summarize\\xa0the\\xa0data\\xa0\\n● Provide\\xa0it\\xa0to\\xa0the\\xa0LLM\\xa0so\\xa0that\\xa0the\\xa0generated\\xa0code\\xa0matches\\xa0the\\xa0design\\n\\xa0\\n1.\\xa0Direct\\xa0Figma\\xa0API\\xa0Pipeline\\xa0\\nThis\\xa0is\\xa0a\\xa0straightforward\\xa0method\\xa0where\\xa0we\\xa0call\\xa0Figma's\\xa0REST\\xa0API\\xa0from\\xa0the\\xa0backend\\xa0and\\xa0feed\\xa0\\nthe\\xa0response\\xa0to\\xa0the\\xa0LLM.\\xa0The\\xa0flow\\xa0is\\xa0as\\xa0follows:\"),\n",
       " Document(metadata={'producer': 'Skia/PDF m129', 'creator': 'Mozilla/5.0 (X11; Linux x86_64) AppleWebKit/537.36 (KHTML, like Gecko) HeadlessChrome/129.0.0.0 Safari/537.36', 'creationdate': '2025-09-02T12:12:23+00:00', 'title': 'Figma Document', 'moddate': '2025-09-02T12:12:23+00:00', 'source': '../data/pdf/Figma Document.pdf', 'total_pages': 11, 'page': 4, 'page_label': '5', 'source_file': 'Figma Document.pdf', 'file_type': 'pdf'}, page_content=\"1.\\xa0Direct\\xa0Figma\\xa0API\\xa0Pipeline\\xa0\\nThis\\xa0is\\xa0a\\xa0straightforward\\xa0method\\xa0where\\xa0we\\xa0call\\xa0Figma's\\xa0REST\\xa0API\\xa0from\\xa0the\\xa0backend\\xa0and\\xa0feed\\xa0\\nthe\\xa0response\\xa0to\\xa0the\\xa0LLM.\\xa0The\\xa0flow\\xa0is\\xa0as\\xa0follows:\\xa0\\n● Detect\\xa0the\\xa0Figma\\xa0link:\\xa0When\\xa0the\\xa0user's\\xa0prompt\\xa0includes\\xa0a\\xa0Figma\\xa0URL,\\xa0parse\\xa0it\\xa0to\\xa0\\nextract\\xa0the\\xa0fileKey\\xa0(and\\xa0optionally\\xa0a\\xa0specific\\xa0nodeId\\xa0if\\xa0a\\xa0frame\\xa0is\\xa0linked).\"),\n",
       " Document(metadata={'producer': 'Skia/PDF m129', 'creator': 'Mozilla/5.0 (X11; Linux x86_64) AppleWebKit/537.36 (KHTML, like Gecko) HeadlessChrome/129.0.0.0 Safari/537.36', 'creationdate': '2025-09-02T12:12:23+00:00', 'title': 'Figma Document', 'moddate': '2025-09-02T12:12:23+00:00', 'source': '../data/pdf/Figma Document.pdf', 'total_pages': 11, 'page': 5, 'page_label': '6', 'source_file': 'Figma Document.pdf', 'file_type': 'pdf'}, page_content='● Fetch\\xa0design\\xa0data:\\xa0we\\xa0will\\xa0Use\\xa0a\\xa0Figma\\xa0developer\\xa0access\\xa0token\\xa0to\\xa0call\\xa0the\\xa0API,\\xa0such\\xa0as\\xa0\\nGET\\xa0https://api.figma.com/v1/files/{fileKey}\\xa0(or\\xa0/files/{fileKey}/nodes?ids={nodeId}\\xa0for\\xa0a\\xa0\\nspecific\\xa0frame).\\xa0The\\xa0API\\xa0returns\\xa0a\\xa0JSON\\xa0file\\xa0with\\xa0the\\xa0entire\\xa0node\\'s\\xa0tree,\\xa0components,\\xa0\\nstyles,\\xa0positions,\\xa0etc.\\xa0\\n● Process\\xa0and\\xa0filter\\xa0the\\xa0JSON:\\xa0The\\xa0raw\\xa0Figma\\xa0JSON\\xa0is\\xa0very\\xa0large.\\xa0We\\xa0will\\xa0extract\\xa0only\\xa0\\nthe\\xa0relevant\\xa0parts,\\xa0such\\xa0as\\xa0named\\xa0frames\\xa0or\\xa0artboards,\\xa0their\\xa0child\\xa0layers\\xa0(e.g.,\\xa0buttons,\\xa0\\ntext,\\xa0images),\\xa0and\\xa0key\\xa0properties\\xa0(dimensions,\\xa0colors,\\xa0fonts,\\xa0layout).\\xa0We\\xa0may\\xa0need\\xa0to\\xa0\\ntraverse\\xa0a\\xa0few\\xa0levels\\xa0deep\\xa0(using\\xa0the\\xa0depth\\xa0parameter)\\xa0to\\xa0capture\\xa0the\\xa0structure\\xa0without\\xa0\\ntoo\\xa0much\\xa0detail.\\xa0This\\xa0step\\xa0is\\xa0critical\\xa0and\\xa0could\\xa0be\\xa0a\\xa0potential\\xa0challenge\\xa0in\\xa0this\\xa0approach.\\xa0\\n● Craft\\xa0the\\xa0LLM\\xa0prompt:\\xa0Combine\\xa0the\\xa0user\\'s\\xa0request\\xa0with\\xa0a\\xa0summary\\xa0of\\xa0the\\xa0design\\xa0data.\\xa0\\nFor\\xa0example,\\xa0add\\xa0a\\xa0system\\xa0message\\xa0like:\\xa0\"Below\\xa0is\\xa0the\\xa0structure\\xa0of\\xa0the\\xa0Figma\\xa0design.\\xa0\\nEach\\xa0frame\\xa0contains\\xa0X\\xa0and\\xa0Y...\"\\xa0or\\xa0include\\xa0small\\xa0JSON\\xa0snippets.\\xa0Instruct\\xa0the\\xa0model\\xa0to'),\n",
       " Document(metadata={'producer': 'Skia/PDF m129', 'creator': 'Mozilla/5.0 (X11; Linux x86_64) AppleWebKit/537.36 (KHTML, like Gecko) HeadlessChrome/129.0.0.0 Safari/537.36', 'creationdate': '2025-09-02T12:12:23+00:00', 'title': 'Figma Document', 'moddate': '2025-09-02T12:12:23+00:00', 'source': '../data/pdf/Figma Document.pdf', 'total_pages': 11, 'page': 5, 'page_label': '6', 'source_file': 'Figma Document.pdf', 'file_type': 'pdf'}, page_content='For\\xa0example,\\xa0add\\xa0a\\xa0system\\xa0message\\xa0like:\\xa0\"Below\\xa0is\\xa0the\\xa0structure\\xa0of\\xa0the\\xa0Figma\\xa0design.\\xa0\\nEach\\xa0frame\\xa0contains\\xa0X\\xa0and\\xa0Y...\"\\xa0or\\xa0include\\xa0small\\xa0JSON\\xa0snippets.\\xa0Instruct\\xa0the\\xa0model\\xa0to\\xa0\\ngenerate\\xa0code\\xa0(e.g.,\\xa0Next.js/React\\xa0code)\\xa0that\\xa0matches\\xa0the\\xa0design,\\xa0such\\xa0as:\\xa0\"Design\\xa0\\ndata:\\xa0Button\\xa0at\\xa0top\\xa0with\\xa0text\\xa0‘Submit’,\\xa0blue\\xa0background.\\xa0Header\\xa0with\\xa0logo,\\xa0etc.\\xa0Generate\\xa0\\nReact+CSS\\xa0code\\xa0matching\\xa0this.\"\\xa0\\n● Generate\\xa0code:\\xa0Call\\xa0the\\xa0agent\\xa0API\\xa0with\\xa0the\\xa0combined\\xa0prompt\\xa0and\\xa0provide\\xa0the\\xa0Figma\\xa0\\ndata\\xa0as\\xa0context.\\xa0\\nThis\\xa0pipeline\\xa0is\\xa0fully\\xa0customizable:\\xa0we\\xa0control\\xa0the\\xa0extraction\\xa0of\\xa0design\\xa0details\\xa0and\\xa0how\\xa0to\\xa0instruct\\xa0\\nthe\\xa0LLM.\\xa0It\\xa0relies\\xa0only\\xa0on\\xa0the\\xa0Figma\\xa0REST\\xa0API,\\xa0without\\xa0needing\\xa0MCP\\xa0or\\xa0any\\xa0special\\xa0protocol.\\xa0\\nStep-by-Step\\xa0Flow\\xa0\\n1 . URL\\xa0Detection\\xa0&\\xa0Processing:\\xa0Parse\\xa0the\\xa0Figma\\xa0URL\\xa0to\\xa0extract\\xa0the\\xa0file\\xa0key\\xa0using\\xa0regex\\xa0\\npatterns.\\xa0\\n2 . Figma\\xa0API\\xa0Integration:\\xa0Use\\xa0Figma\\'s\\xa0REST\\xa0API\\xa0endpoints\\xa0to\\xa0fetch\\xa0file\\xa0data.\\xa0\\n3 . Design\\xa0Data\\xa0Extraction:\\xa0Process\\xa0the\\xa0JSON\\xa0response\\xa0to\\xa0extract\\xa0components,\\xa0styles,\\xa0\\nand\\xa0layouts\\xa0using\\xa0manual\\xa0logic.'),\n",
       " Document(metadata={'producer': 'Skia/PDF m129', 'creator': 'Mozilla/5.0 (X11; Linux x86_64) AppleWebKit/537.36 (KHTML, like Gecko) HeadlessChrome/129.0.0.0 Safari/537.36', 'creationdate': '2025-09-02T12:12:23+00:00', 'title': 'Figma Document', 'moddate': '2025-09-02T12:12:23+00:00', 'source': '../data/pdf/Figma Document.pdf', 'total_pages': 11, 'page': 5, 'page_label': '6', 'source_file': 'Figma Document.pdf', 'file_type': 'pdf'}, page_content=\"2 . Figma\\xa0API\\xa0Integration:\\xa0Use\\xa0Figma's\\xa0REST\\xa0API\\xa0endpoints\\xa0to\\xa0fetch\\xa0file\\xa0data.\\xa0\\n3 . Design\\xa0Data\\xa0Extraction:\\xa0Process\\xa0the\\xa0JSON\\xa0response\\xa0to\\xa0extract\\xa0components,\\xa0styles,\\xa0\\nand\\xa0layouts\\xa0using\\xa0manual\\xa0logic.\\xa0\\n4 . Context\\xa0Preparation:\\xa0Transform\\xa0the\\xa0design\\xa0data\\xa0into\\xa0a\\xa0format\\xa0suitable\\xa0for\\xa0the\\xa0LLM.\\xa0\\n5 . Stream\\xa0API\\xa0Integration:\\xa0Send\\xa0the\\xa0processed\\xa0design\\xa0context\\xa0to\\xa0the\\xa0existing\\xa0/stream\\xa0API.\\xa0\\n6 . Code\\xa0Generation:\\xa0The\\xa0LLM\\xa0generates\\xa0code\\xa0based\\xa0on\\xa0the\\xa0design\\xa0specifications.\\xa0\\nPros\\xa0\\n● No\\xa0extra\\xa0servers\\xa0beyond\\xa0your\\xa0backend.\"),\n",
       " Document(metadata={'producer': 'Skia/PDF m129', 'creator': 'Mozilla/5.0 (X11; Linux x86_64) AppleWebKit/537.36 (KHTML, like Gecko) HeadlessChrome/129.0.0.0 Safari/537.36', 'creationdate': '2025-09-02T12:12:23+00:00', 'title': 'Figma Document', 'moddate': '2025-09-02T12:12:23+00:00', 'source': '../data/pdf/Figma Document.pdf', 'total_pages': 11, 'page': 6, 'page_label': '7', 'source_file': 'Figma Document.pdf', 'file_type': 'pdf'}, page_content='● Complete\\xa0control\\xa0over\\xa0the\\xa0data\\xa0sent.\\xa0\\nCons\\xa0\\n● Requires\\xa0implementing\\xa0all\\xa0parsing\\xa0and\\xa0filtering\\xa0logic.\\xa0\\n● The\\xa0Figma\\xa0JSON\\xa0can\\xa0be\\xa0bulky,\\xa0making\\xa0concise\\xa0prompts\\xa0tricky.\\xa0\\n● Large\\xa0JSON\\xa0may\\xa0exceed\\xa0the\\xa0model\\'s\\xa0context\\xa0window,\\xa0requiring\\xa0summarization\\xa0or\\xa0\\ntruncation,\\xa0which\\xa0could\\xa0affect\\xa0the\\xa0accuracy\\xa0of\\xa0the\\xa0generated\\xa0code.\\xa0\\n2.\\xa0Using\\xa0a\\xa0Figma\\xa0MCP\\xa0Server\\xa0(npm\\xa0Package)\\xa0\\nFigma\\'s\\xa0Model\\xa0Context\\xa0Protocol\\xa0(MCP)\\xa0is\\xa0a\\xa0standard\\xa0for\\xa0querying\\xa0data\\xa0sources\\xa0like\\xa0designs.\\xa0\\nFigma\\'s\\xa0Dev\\xa0Mode\\xa0MCP\\xa0server\\xa0(in\\xa0open\\xa0beta)\\xa0runs\\xa0in\\xa0the\\xa0desktop\\xa0app\\xa0and\\xa0answers\\xa0queries\\xa0like\\xa0\\n\"give\\xa0me\\xa0the\\xa0layout\\xa0of\\xa0this\\xa0frame.\"\\xa0It\\'s\\xa0useful\\xa0for\\xa0IDE\\xa0plugins\\xa0(e.g.,\\xa0Cursor,\\xa0Copilot),\\xa0but\\xa0not\\xa0\\ndirectly\\xa0for\\xa0web\\xa0backends,\\xa0as\\xa0it\\xa0requires\\xa0the\\xa0user\\'s\\xa0local\\xa0Figma\\xa0desktop\\xa0to\\xa0host\\xa0the\\xa0server.\\xa0\\nInstead,\\xa0we\\xa0can\\xa0use\\xa0an\\xa0open-source\\xa0MCP\\xa0tool\\xa0like\\xa0figma-developer-mcp\\xa0(by\\xa0Framelink),\\xa0which\\xa0\\nacts\\xa0as\\xa0an\\xa0intermediary.\\xa0It\\xa0queries\\xa0Figma\\'s\\xa0API,\\xa0filters\\xa0the\\xa0results,\\xa0and\\xa0exposes\\xa0them\\xa0through\\xa0\\nsimple\\xa0tools\\xa0(e.g.,\\xa0get_figma_data).\\xa0This\\xa0simulates\\xa0MCP\\xa0for\\xa0our\\xa0use\\xa0case.'),\n",
       " Document(metadata={'producer': 'Skia/PDF m129', 'creator': 'Mozilla/5.0 (X11; Linux x86_64) AppleWebKit/537.36 (KHTML, like Gecko) HeadlessChrome/129.0.0.0 Safari/537.36', 'creationdate': '2025-09-02T12:12:23+00:00', 'title': 'Figma Document', 'moddate': '2025-09-02T12:12:23+00:00', 'source': '../data/pdf/Figma Document.pdf', 'total_pages': 11, 'page': 6, 'page_label': '7', 'source_file': 'Figma Document.pdf', 'file_type': 'pdf'}, page_content=\"acts\\xa0as\\xa0an\\xa0intermediary.\\xa0It\\xa0queries\\xa0Figma's\\xa0API,\\xa0filters\\xa0the\\xa0results,\\xa0and\\xa0exposes\\xa0them\\xa0through\\xa0\\nsimple\\xa0tools\\xa0(e.g.,\\xa0get_figma_data).\\xa0This\\xa0simulates\\xa0MCP\\xa0for\\xa0our\\xa0use\\xa0case.\\xa0\\nIf\\xa0using\\xa0Figma's\\xa0official\\xa0MCP\\xa0server\\xa0were\\xa0possible,\\xa0the\\xa0flow\\xa0would\\xa0be:\\xa0\\n● User\\xa0enables\\xa0Dev\\xa0Mode\\xa0MCP\\xa0in\\xa0the\\xa0Figma\\xa0desktop\\xa0app.\\xa0\\n● Register\\xa0our\\xa0app\\xa0as\\xa0an\\xa0MCP\\xa0client\\xa0(via\\xa0URL\\xa0127.0.0.1:3845/mcp).\\xa0\\n● Query\\xa0the\\xa0local\\xa0server\\xa0from\\xa0our\\xa0code\\xa0agent.\\xa0\\nHowever,\\xa0since\\xa0our\\xa0app\\xa0is\\xa0server-based,\\xa0we\\xa0can't\\xa0use\\xa0this.\\xa0We\\xa0rely\\xa0on\\xa0the\\xa0Figma\\xa0REST\\xa0API\\xa0with\\xa0\\na\\xa0personal\\xa0access\\xa0token\\xa0(created\\xa0via\\xa0Figma\\xa0settings)\\xa0or\\xa0the\\xa0npm\\xa0MCP\\xa0package.\\xa0The\\xa0token\\xa0\\nallows\\xa0fetching\\xa0public\\xa0Figma\\xa0files.\\xa0\\nIn\\xa0summary,\\xa0MCP\\xa0standardizes\\xa0context\\xa0queries\\xa0for\\xa0AI\\xa0agents.\\xa0We\\xa0won't\\xa0call\\xa0the\\xa0official\\xa0MCP\\xa0\\nserver;\\xa0instead,\\xa0we'll\\xa0use\\xa0the\\xa0REST\\xa0API\\xa0or\\xa0the\\xa0open-source\\xa0MCP\\xa0tool\\xa0to\\xa0get\\xa0the\\xa0same\\xa0\\ninformation\\xa0for\\xa0our\\xa0LLM\\xa0prompt.\\xa0\\nHow\\xa0the\\xa0Figma\\xa0MCP\\xa0Server\\xa0Tool\\xa0Works\\xa0\\nThe\\xa0npm\\xa0package\\xa0(e.g.,\\xa0figma-developer-mcp)\\xa0runs\\xa0as\\xa0a\\xa0server\\xa0(e.g.,\\xa0on\\xa0localhost:3333)\\xa0and\"),\n",
       " Document(metadata={'producer': 'Skia/PDF m129', 'creator': 'Mozilla/5.0 (X11; Linux x86_64) AppleWebKit/537.36 (KHTML, like Gecko) HeadlessChrome/129.0.0.0 Safari/537.36', 'creationdate': '2025-09-02T12:12:23+00:00', 'title': 'Figma Document', 'moddate': '2025-09-02T12:12:23+00:00', 'source': '../data/pdf/Figma Document.pdf', 'total_pages': 11, 'page': 7, 'page_label': '8', 'source_file': 'Figma Document.pdf', 'file_type': 'pdf'}, page_content='provides\\xa0endpoints/tools\\xa0like:\\xa0\\n● get_figma_data(fileKey,\\xa0nodeId,\\xa0depth):\\xa0Returns\\xa0a\\xa0concise\\xa0description\\xa0of\\xa0the\\xa0Figma\\xa0\\nfile\\xa0or\\xa0node,\\xa0including\\xa0frames,\\xa0components,\\xa0layout\\xa0info,\\xa0styles,\\xa0etc.\\xa0It\\xa0provides\\xa0structured\\xa0\\nJSON\\xa0with\\xa0essential\\xa0details\\xa0(e.g.,\\xa0layer\\xa0types,\\xa0text,\\xa0colors,\\xa0positions),\\xa0omitting\\xa0\\nunnecessary\\xa0data.\\xa0\\n● download_figma_images(...)\\xa0(WIP):\\xa0Fetches\\xa0SVG/PNG\\xa0images\\xa0from\\xa0Figma\\xa0nodes.\\xa0\\nImplementation\\xa0Steps\\xa0\\n● Run\\xa0the\\xa0Figma-MCP\\xa0server\\xa0(e.g.,\\xa0via\\xa0npx\\xa0figma-developer-mcp\\xa0--figma-api-\\nkey=<token>).</token>\\xa0\\n● When\\xa0a\\xa0query\\xa0with\\xa0a\\xa0Figma\\xa0link\\xa0arrives,\\xa0the\\xa0backend\\xa0calls\\xa0the\\xa0MCP\\xa0API\\xa0(e.g.,\\xa0via\\xa0HTTP\\xa0\\nrequest\\xa0to\\xa0/messages\\xa0or\\xa0SSE\\xa0on\\xa0http://localhost:3333/sse)\\xa0to\\xa0invoke\\xa0get_figma_data\\xa0\\nwith\\xa0the\\xa0file\\xa0key\\xa0and\\xa0frame\\xa0ID.\\xa0\\n● The\\xa0MCP\\xa0server\\xa0returns\\xa0cleaned-up\\xa0JSON.\\xa0\\n● Include\\xa0this\\xa0output\\xa0in\\xa0the\\xa0LLM\\xa0prompt\\xa0(e.g.,\\xa0as\\xa0a\\xa0system\\xa0message).\\xa0Instruct\\xa0the\\xa0LLM\\xa0like:\\xa0\\n\"Given\\xa0this\\xa0design\\xa0metadata,\\xa0generate\\xa0Next.js\\xa0code\\xa0that\\xa0matches\\xa0it.\"\\xa0\\nThis\\xa0offloads\\xa0data\\xa0parsing\\xa0from\\xa0the\\xa0first\\xa0approach.\\xa0\\nPros'),\n",
       " Document(metadata={'producer': 'Skia/PDF m129', 'creator': 'Mozilla/5.0 (X11; Linux x86_64) AppleWebKit/537.36 (KHTML, like Gecko) HeadlessChrome/129.0.0.0 Safari/537.36', 'creationdate': '2025-09-02T12:12:23+00:00', 'title': 'Figma Document', 'moddate': '2025-09-02T12:12:23+00:00', 'source': '../data/pdf/Figma Document.pdf', 'total_pages': 11, 'page': 7, 'page_label': '8', 'source_file': 'Figma Document.pdf', 'file_type': 'pdf'}, page_content='\"Given\\xa0this\\xa0design\\xa0metadata,\\xa0generate\\xa0Next.js\\xa0code\\xa0that\\xa0matches\\xa0it.\"\\xa0\\nThis\\xa0offloads\\xa0data\\xa0parsing\\xa0from\\xa0the\\xa0first\\xa0approach.\\xa0\\nPros\\xa0\\n● Standardizes\\xa0and\\xa0minimizes\\xa0context.\\xa0\\n● Battle-tested\\xa0in\\xa0tools\\xa0like\\xa0Cursor\\xa0for\\xa0better\\xa0accuracy.\\xa0\\n● Avoids\\xa0writing\\xa0your\\xa0own\\xa0parser.\\xa0\\nCons\\xa0\\n● Requires\\xa0running\\xa0the\\xa0MCP\\xa0server\\xa0alongside\\xa0the\\xa0backend\\xa0(a\\xa0Node\\xa0process\\xa0with\\xa0the\\xa0\\nFigma\\xa0token).\\xa0\\n● Integrating\\xa0with\\xa0an\\xa0LLM\\xa0API\\xa0may\\xa0need\\xa0an\\xa0extra\\xa0step.\\xa0\\n● The\\xa0server\\xa0is\\xa0in\\xa0beta,\\xa0so\\xa0there\\xa0may\\xa0be\\xa0some\\xa0issues.\\xa0\\nNote:\\xa0We\\xa0cannot\\xa0use\\xa0Figma\\'s\\xa0built-in\\xa0Dev\\xa0Mode\\xa0MCP\\xa0server\\xa0for\\xa0a\\xa0remote\\xa0web\\xa0service.\\xa0The\\xa0\\nopen-source\\xa0figma-developer-mcp\\xa0is\\xa0designed\\xa0for\\xa0web-based\\xa0workflows.'),\n",
       " Document(metadata={'producer': 'Skia/PDF m129', 'creator': 'Mozilla/5.0 (X11; Linux x86_64) AppleWebKit/537.36 (KHTML, like Gecko) HeadlessChrome/129.0.0.0 Safari/537.36', 'creationdate': '2025-09-02T12:12:23+00:00', 'title': 'Figma Document', 'moddate': '2025-09-02T12:12:23+00:00', 'source': '../data/pdf/Figma Document.pdf', 'total_pages': 11, 'page': 8, 'page_label': '9', 'source_file': 'Figma Document.pdf', 'file_type': 'pdf'}, page_content='3.\\xa0Architecture\\xa0Flows\\xa0\\nHere\\xa0are\\xa0end-to-end\\xa0outlines\\xa0for\\xa0both\\xa0approaches.\\xa0In\\xa0each,\\xa0the\\xa0frontend\\xa0passes\\xa0the\\xa0user\\'s\\xa0\\nprompt\\xa0(including\\xa0the\\xa0Figma\\xa0URL)\\xa0to\\xa0the\\xa0backend\\xa0/stream\\xa0endpoint.\\xa0\\nCustom\\xa0Figma-API\\xa0Flow\\xa0\\n1 . User\\xa0submits\\xa0prompt\\xa0with\\xa0Figma\\xa0URL.\\xa0\\n2 . Backend\\xa0extracts\\xa0link\\xa0(e.g.,\\xa0fileKey\\xa0from\\xa0figma.com/file/{fileKey}/...).\\xa0\\n3 . Call\\xa0Figma\\xa0API\\xa0to\\xa0fetch\\xa0JSON.\\xa0\\n4 . Process\\xa0and\\xa0summarize\\xa0key\\xa0UI\\xa0elements\\xa0(frames,\\xa0text,\\xa0colors,\\xa0etc.).\\xa0\\n5 . Build\\xa0LLM\\xa0prompt\\xa0by\\xa0combining\\xa0user\\'s\\xa0request\\xa0with\\xa0extracted\\xa0data\\xa0(e.g.,\\xa0bullet\\xa0list\\xa0or\\xa0\\nJSON).\\xa0\\n6 . Call\\xa0LLM\\xa0to\\xa0generate\\xa0and\\xa0stream\\xa0code.\\xa0\\nMCP-Enabled\\xa0Flow\\xa0\\n1 . User\\xa0submits\\xa0prompt\\xa0with\\xa0Figma\\xa0URL.\\xa0\\n2 . Backend\\xa0triggers\\xa0MCP\\xa0tool:\\xa0Send\\xa0get_figma_data(fileKey,\\xa0nodeId,\\xa0depth)\\xa0to\\xa0the\\xa0running\\xa0\\nMCP\\xa0server.\\xa0\\n3 . Receive\\xa0concise\\xa0JSON\\xa0of\\xa0design\\xa0elements.\\xa0\\n4 . Build\\xa0LLM\\xa0prompt\\xa0including\\xa0this\\xa0JSON\\xa0(or\\xa0summary).\\xa0\\n5 . Call\\xa0LLM\\xa0to\\xa0generate\\xa0and\\xa0stream\\xa0code.\\xa0\\nIn\\xa0both,\\xa0the\\xa0LLM\\xa0prompt\\xa0could\\xa0be:\\xa0\"You\\xa0are\\xa0an\\xa0AI\\xa0assistant\\xa0that\\xa0converts\\xa0designs\\xa0to\\xa0code.\\xa0The'),\n",
       " Document(metadata={'producer': 'Skia/PDF m129', 'creator': 'Mozilla/5.0 (X11; Linux x86_64) AppleWebKit/537.36 (KHTML, like Gecko) HeadlessChrome/129.0.0.0 Safari/537.36', 'creationdate': '2025-09-02T12:12:23+00:00', 'title': 'Figma Document', 'moddate': '2025-09-02T12:12:23+00:00', 'source': '../data/pdf/Figma Document.pdf', 'total_pages': 11, 'page': 8, 'page_label': '9', 'source_file': 'Figma Document.pdf', 'file_type': 'pdf'}, page_content='4 . Build\\xa0LLM\\xa0prompt\\xa0including\\xa0this\\xa0JSON\\xa0(or\\xa0summary).\\xa0\\n5 . Call\\xa0LLM\\xa0to\\xa0generate\\xa0and\\xa0stream\\xa0code.\\xa0\\nIn\\xa0both,\\xa0the\\xa0LLM\\xa0prompt\\xa0could\\xa0be:\\xa0\"You\\xa0are\\xa0an\\xa0AI\\xa0assistant\\xa0that\\xa0converts\\xa0designs\\xa0to\\xa0code.\\xa0The\\xa0\\nuser\\xa0provided\\xa0a\\xa0Figma\\xa0design\\xa0with\\xa0these\\xa0elements:\\xa0[list\\xa0or\\xa0JSON\\xa0of\\xa0frames/layers].\\xa0Generate\\xa0a\\xa0\\nReact\\xa0component\\xa0(Next.js\\xa0page)\\xa0that\\xa0matches\\xa0this\\xa0design\\xa0exactly.\"\\xa0\\nThe\\xa0key\\xa0is\\xa0extracting\\xa0design\\xa0info\\xa0before\\xa0the\\xa0LLM\\xa0call.\\xa0MCP\\xa0handles\\xa0this\\xa0in\\xa0its\\xa0flow;\\xa0the\\xa0custom\\xa0\\nflow\\xa0requires\\xa0backend\\xa0code.\\xa0\\n4.\\xa0Role\\xa0of\\xa0MCP\\xa0Server\\xa0\\nMCP\\xa0is\\xa0designed\\xa0to\\xa0let\\xa0AI\\xa0agents\\xa0fetch\\xa0external\\xa0context\\xa0(like\\xa0Figma\\xa0files)\\xa0in\\xa0a\\xa0standardized\\xa0way.'),\n",
       " Document(metadata={'producer': 'Skia/PDF m129', 'creator': 'Mozilla/5.0 (X11; Linux x86_64) AppleWebKit/537.36 (KHTML, like Gecko) HeadlessChrome/129.0.0.0 Safari/537.36', 'creationdate': '2025-09-02T12:12:23+00:00', 'title': 'Figma Document', 'moddate': '2025-09-02T12:12:23+00:00', 'source': '../data/pdf/Figma Document.pdf', 'total_pages': 11, 'page': 9, 'page_label': '10', 'source_file': 'Figma Document.pdf', 'file_type': 'pdf'}, page_content='The\\xa0Framelink\\xa0figma-developer-mcp\\xa0server\\xa0supports\\xa0our\\xa0use\\xa0case\\xa0by\\xa0providing\\xa0Figma\\xa0layout\\xa0\\ninfo\\xa0to\\xa0AI\\xa0coding\\xa0agents.\\xa0\\nWe\\xa0can\\xa0treat\\xa0it\\xa0as\\xa0a\\xa0tool\\xa0or\\xa0microservice.\\xa0It\\'s\\xa0optional—we\\xa0could\\xa0implement\\xa0similar\\xa0logic\\xa0\\nourselves—but\\xa0it\\xa0simplifies\\xa0the\\xa0hardest\\xa0part\\xa0(handling\\xa0Figma\\xa0data).\\xa0\\nDirect\\xa0Figma\\xa0REST\\xa0JSON\\xa0is\\xa0hard\\xa0to\\xa0process\\xa0due\\xa0to\\xa0its\\xa0size\\xa0and\\xa0noise.\\xa0We\\'d\\xa0need\\xa0to\\xa0prune\\xa0node\\xa0\\ntrees,\\xa0convert\\xa0Auto-layout\\xa0to\\xa0CSS,\\xa0and\\xa0resolve\\xa0variables.\\xa0That\\'s\\xa0why\\xa0adding\\xa0a\\xa0\"Figma\\xa0to\\xa0LLM-\\nready\\xa0context\"\\xa0layer\\xa0(like\\xa0MCP)\\xa0is\\xa0better\\xa0than\\xa0raw\\xa0data.\\xa0\\nRecommended\\xa0Approach:\\xa0Use\\xa0Framelink\\xa0figma-\\ndeveloper-mcp\\xa0\\nThis\\xa0is\\xa0the\\xa0best\\xa0option.\\xa0Run\\xa0it\\xa0as\\xa0a\\xa0microservice\\xa0(HTTP/SSE).\\xa0POST\\xa0a\\xa0tool\\xa0call\\xa0like\\xa0\\nget_figma_data\\xa0with\\xa0a\\xa0Figma\\xa0link.\\xa0It\\xa0returns\\xa0a\\xa0compact,\\xa0LLM-ready\\xa0bundle\\xa0(layout,\\xa0styles,\\xa0\\ntokens,\\xa0assets)\\xa0built\\xa0for\\xa0code\\xa0generation.\\xa0\\nPros\\xa0\\n● Saves\\xa0time\\xa0compared\\xa0to\\xa0custom\\xa0implementation.\\xa0\\n● Tuned\\xa0for\\xa0agents;\\xa0reduces\\xa0payload\\xa0by\\xa0~90%.\\xa0\\n● HTTP/SSE\\xa0integrates\\xa0easily\\xa0with\\xa0the\\xa0backend.\\xa0\\nCons\\xa0\\n● Adds\\xa0another\\xa0service\\xa0to\\xa0run.'),\n",
       " Document(metadata={'producer': 'Skia/PDF m129', 'creator': 'Mozilla/5.0 (X11; Linux x86_64) AppleWebKit/537.36 (KHTML, like Gecko) HeadlessChrome/129.0.0.0 Safari/537.36', 'creationdate': '2025-09-02T12:12:23+00:00', 'title': 'Figma Document', 'moddate': '2025-09-02T12:12:23+00:00', 'source': '../data/pdf/Figma Document.pdf', 'total_pages': 11, 'page': 9, 'page_label': '10', 'source_file': 'Figma Document.pdf', 'file_type': 'pdf'}, page_content='Pros\\xa0\\n● Saves\\xa0time\\xa0compared\\xa0to\\xa0custom\\xa0implementation.\\xa0\\n● Tuned\\xa0for\\xa0agents;\\xa0reduces\\xa0payload\\xa0by\\xa0~90%.\\xa0\\n● HTTP/SSE\\xa0integrates\\xa0easily\\xa0with\\xa0the\\xa0backend.\\xa0\\nCons\\xa0\\n● Adds\\xa0another\\xa0service\\xa0to\\xa0run.\\xa0\\n● Still\\xa0requires\\xa0crafting\\xa0prompts\\xa0and\\xa0code-gen\\xa0policies.\\xa0\\nCompare\\xa0to\\xa0alternatives:\\xa0\\n● Official\\xa0Figma\\xa0Dev\\xa0Mode\\xa0MCP\\xa0Server\\xa0(desktop):\\xa0For\\xa0local\\xa0IDEs/agents\\xa0only.\\xa0Runs\\xa0at\\xa0\\n127.0.0.1:3845/mcp\\xa0with\\xa0tools\\xa0like\\xa0get_code.\\xa0Not\\xa0suitable\\xa0for\\xa0hosted\\xa0web\\xa0apps.\\xa0\\n● Framelink\\xa0figma-developer-mcp\\xa0(npm):\\xa0Hostable\\xa0anywhere.\\xa0Calls\\xa0Figma\\xa0REST\\xa0API,\\xa0\\ncompacts\\xa0data,\\xa0and\\xa0uses\\xa0HTTP/SSE\\xa0endpoints\\xa0(/sse,\\xa0/messages).\\xa0Tool:\\xa0get_figma_data\\xa0\\n(pass\\xa0shared\\xa0Figma\\xa0link).'),\n",
       " Document(metadata={'producer': 'Skia/PDF m129', 'creator': 'Mozilla/5.0 (X11; Linux x86_64) AppleWebKit/537.36 (KHTML, like Gecko) HeadlessChrome/129.0.0.0 Safari/537.36', 'creationdate': '2025-09-02T12:12:23+00:00', 'title': 'Figma Document', 'moddate': '2025-09-02T12:12:23+00:00', 'source': '../data/pdf/Figma Document.pdf', 'total_pages': 11, 'page': 10, 'page_label': '11', 'source_file': 'Figma Document.pdf', 'file_type': 'pdf'}, page_content='It\\xa0trims\\xa0the\\xa0raw\\xa0Figma\\xa0graph\\xa0to\\xa0essential\\xa0bits,\\xa0making\\xa0it\\xa0ideal\\xa0over\\xa0raw\\xa0REST.\\xa0\\nStep-by-Step\\xa0Integration\\xa0of\\xa0figma-developer-mcp\\xa0\\nOverall\\xa0Flow\\xa0\\n● Frontend:\\xa0User\\xa0enters\\xa0prompt\\xa0+\\xa0Figma\\xa0URL\\xa0→\\xa0calls\\xa0/agent.\\xa0\\n● Backend\\xa0/agent:\\xa0\\n○ Extract\\xa0fileKey/nodeId\\xa0(optional;\\xa0pass\\xa0full\\xa0URL\\xa0to\\xa0MCP).\\xa0\\n○ Call\\xa0Framelink\\xa0MCP\\xa0over\\xa0HTTP/SSE\\xa0with\\xa0get_figma_data\\xa0and\\xa0the\\xa0link.\\xa0\\n○ Receive\\xa0compacted\\xa0design\\xa0context\\xa0JSON\\xa0(+\\xa0optional\\xa0screenshots/assets).\\xa0\\n○ Feed\\xa0context\\xa0to\\xa0LLM\\xa0in\\xa0the\\xa0stream\\xa0(we\\xa0already\\xa0support\\xa0streaming).\\xa0\\nSetup\\xa0\\n1 . Install\\xa0and\\xa0Run\\xa0the\\xa0MCP\\xa0Server\\xa0in\\xa0HTTP/SSE\\xa0Mode:\\xa0\\n○. Install:\\xa0npm\\xa0i\\xa0-g\\xa0figma-developer-mcp\\xa0(or\\xa0use\\xa0npx).\\xa0\\n○. Set\\xa0env:\\xa0FIGMA_API_KEY=<pat>\\xa0(scopes:\\xa0File\\xa0Content\\xa0+\\xa0Dev\\xa0\\nResources).</pat>\\xa0\\n○. Start\\xa0on\\xa0an\\xa0internal\\xa0port\\xa0(e.g.,\\xa07345)\\xa0in\\xa0HTTP/SSE\\xa0mode.\\xa0\\n○. Endpoints:\\xa0GET\\xa0/sse\\xa0(subscribe\\xa0to\\xa0events),\\xa0POST\\xa0/messages\\xa0(send\\xa0MCP\\xa0\\nmessages\\xa0like\\xa0tool\\xa0invocations).\\xa0\\n○. Configure\\xa0auth/allowlist\\xa0per\\xa0docs\\xa0(see\\xa0\"Alternative\\xa0Server\\xa0Configurations\").'),\n",
       " Document(metadata={'producer': 'Skia/PDF m129', 'creator': 'Mozilla/5.0 (X11; Linux x86_64) AppleWebKit/537.36 (KHTML, like Gecko) HeadlessChrome/129.0.0.0 Safari/537.36', 'creationdate': '2025-09-02T12:12:23+00:00', 'title': 'Figma Document', 'moddate': '2025-09-02T12:12:23+00:00', 'source': '../data/pdf/Figma Document.pdf', 'total_pages': 11, 'page': 10, 'page_label': '11', 'source_file': 'Figma Document.pdf', 'file_type': 'pdf'}, page_content='○. Endpoints:\\xa0GET\\xa0/sse\\xa0(subscribe\\xa0to\\xa0events),\\xa0POST\\xa0/messages\\xa0(send\\xa0MCP\\xa0\\nmessages\\xa0like\\xa0tool\\xa0invocations).\\xa0\\n○. Configure\\xa0auth/allowlist\\xa0per\\xa0docs\\xa0(see\\xa0\"Alternative\\xa0Server\\xa0Configurations\").\\xa0\\nThe\\xa0npm\\xa0readme\\xa0covers\\xa0stdio\\xa0for\\xa0IDEs;\\xa0use\\xa0HTTP/SSE\\xa0mode\\xa0for\\xa0web\\xa0backends\\xa0as\\xa0per\\xa0\\nFramelink\\xa0docs.'),\n",
       " Document(metadata={'producer': 'Microsoft® Word for Microsoft 365', 'creator': 'Microsoft® Word for Microsoft 365', 'creationdate': '2025-07-21T12:59:58+00:00', 'moddate': '2025-07-21T12:59:58+00:00', 'source': '../data/pdf/HR Policy_2025 Final.pdf', 'total_pages': 7, 'page': 0, 'page_label': '1', 'source_file': 'HR Policy_2025 Final.pdf', 'file_type': 'pdf'}, page_content='Page 1 of 7 \\n \\n \\n \\n \\n \\n \\n \\n \\nHR Policy \\nCreated Date: 1st  Jan 2025'),\n",
       " Document(metadata={'producer': 'Microsoft® Word for Microsoft 365', 'creator': 'Microsoft® Word for Microsoft 365', 'creationdate': '2025-07-21T12:59:58+00:00', 'moddate': '2025-07-21T12:59:58+00:00', 'source': '../data/pdf/HR Policy_2025 Final.pdf', 'total_pages': 7, 'page': 1, 'page_label': '2', 'source_file': 'HR Policy_2025 Final.pdf', 'file_type': 'pdf'}, page_content='Page 2 of 7 \\n \\nSection 1: Office Timings and Attendance \\nCompany believes and promotes a disciplinary life whether it is personal or professional. Discipline \\nis a way of life, where one tries to be on time and live in a systematic way. \\n \\nOffice Timings: \\n- Office timing is 10:00 AM to 7:30 PM. \\n- Here, 10:00 AM to 10:30 AM is flexible time to accommodate any unexpected delay in \\nreaching office. \\n- Shift timing can be changed either on permanent or on temporary basis depending on \\nthe work requirements. Based on client requirement will take decision of your shift \\nbased on multiple parameters like profile, responsibility, clients etc. \\n \\nBreaks: \\n- Lunch break time is 45 mins (1:30 PM- 2:15 PM). \\n- Tea Break /Evening break time is 15mins. \\n \\nWorking Hours (Clocked in hours): \\n- You MUST clock in 8 hours 30 mins everyday i.e. you must have 8hrs and 30mins as \\nyour working hours in your tracker. \\n- If your working hours (8 hours 30 mins on development floor) is not completed, then'),\n",
       " Document(metadata={'producer': 'Microsoft® Word for Microsoft 365', 'creator': 'Microsoft® Word for Microsoft 365', 'creationdate': '2025-07-21T12:59:58+00:00', 'moddate': '2025-07-21T12:59:58+00:00', 'source': '../data/pdf/HR Policy_2025 Final.pdf', 'total_pages': 7, 'page': 1, 'page_label': '2', 'source_file': 'HR Policy_2025 Final.pdf', 'file_type': 'pdf'}, page_content=\"your working hours in your tracker. \\n- If your working hours (8 hours 30 mins on development floor) is not completed, then \\ncount as a half day. \\n- If you are taking half day leave must be completed 4:30 min working hrs in your \\ntracker. \\n- If you will not completed your working hours in tracker then we are not responsible \\nfor your half/full day leave. \\n \\nKeeping in mind for learning purpose and employee Engagement Activities we are working on  \\nLast Saturday of the Month for 10:00 AM to 2:00 PM only. \\n \\nSection 2: Leave and WFH Policy \\nThe main objective of the policy is to provide Employees with guidelines regarding the \\ncompany's approach to Employee’s well‐being, to manage absence and discourage \\nunplanned/unauthorized leaves. \\n \\nLeaves: \\n-  We always promote planned leaves making sure that your work and delegation is well \\nmanaged before you proceed for the leaves. \\n- There is no bifurcation of leaves like Casual, Sick etc. and so you can have flexibility to\"),\n",
       " Document(metadata={'producer': 'Microsoft® Word for Microsoft 365', 'creator': 'Microsoft® Word for Microsoft 365', 'creationdate': '2025-07-21T12:59:58+00:00', 'moddate': '2025-07-21T12:59:58+00:00', 'source': '../data/pdf/HR Policy_2025 Final.pdf', 'total_pages': 7, 'page': 1, 'page_label': '2', 'source_file': 'HR Policy_2025 Final.pdf', 'file_type': 'pdf'}, page_content='managed before you proceed for the leaves. \\n- There is no bifurcation of leaves like Casual, Sick etc. and so you can have flexibility to \\ntake leaves under any category. \\n- All employees shall be entitled for 12 days of Planned Leaves per calendar year. \\n- If you applied for a leave but due to some reasons like client requirements, deadline \\nmight, etc might be it will not approved.'),\n",
       " Document(metadata={'producer': 'Microsoft® Word for Microsoft 365', 'creator': 'Microsoft® Word for Microsoft 365', 'creationdate': '2025-07-21T12:59:58+00:00', 'moddate': '2025-07-21T12:59:58+00:00', 'source': '../data/pdf/HR Policy_2025 Final.pdf', 'total_pages': 7, 'page': 2, 'page_label': '3', 'source_file': 'HR Policy_2025 Final.pdf', 'file_type': 'pdf'}, page_content='Page 3 of 7 \\n \\n➢ Process for Planned Leaves \\nThe Employee has to apply leave as per the below guidelines: \\n- The leave application has to be made in HRM, 5 working days in advance for leave \\nduration  \\nOf 1 day, with specific reason clearly mentioned. \\n- The leave application has to be made in HRMS, 10-12 working days in advance for \\nleaves of  \\n2-3 days, with specific reason clearly mentioned. \\n- For long vacation or marriage leave you have to apply before 1 months ago. (For \\nvacation before book your tickets discuss with your TL). \\n- Employee’s responsibilities to take approval from respective TL and HR for their \\nleaves. \\n- Earlier leave approve only for 1:30 hrs (i.e you can leave at 6:00 PM) and late coming \\nis approve only for 1:30 hrs (i.e you can come at 11:30 AM).  \\n- For Earlier leave or late coming must be inform to your TL and HR priory a day ago.  \\n \\n➢ Process for Emergency Leaves \\nThe Employee has to apply leave as per the below guidelines:'),\n",
       " Document(metadata={'producer': 'Microsoft® Word for Microsoft 365', 'creator': 'Microsoft® Word for Microsoft 365', 'creationdate': '2025-07-21T12:59:58+00:00', 'moddate': '2025-07-21T12:59:58+00:00', 'source': '../data/pdf/HR Policy_2025 Final.pdf', 'total_pages': 7, 'page': 2, 'page_label': '3', 'source_file': 'HR Policy_2025 Final.pdf', 'file_type': 'pdf'}, page_content='- For Earlier leave or late coming must be inform to your TL and HR priory a day ago.  \\n \\n➢ Process for Emergency Leaves \\nThe Employee has to apply leave as per the below guidelines: \\n \\n- In case of any medical emergency leave, Employee (By self / Relative) has to inform \\nhis/her Immediate TL / HR by phone call / mail or Skype message only before the day’s \\nreporting hour. (For Example, if shift timing is from 10:00 AM to 7:30 PM, Employee \\nneeds to inform before 10:00 AM). \\n \\n➢ Cancellation of Leave \\n \\n- Employees has to be inform to HR and TL about your cancel leave. \\n \\n➢ Yearly Pending Leaves \\n- Please note that leave encashment is not guaranteed and will be decided solely by \\nthe management based on company policies and business circumstances. If approved, \\nthe encashment amount may be processed at either full salary or half salary, as per \\nmanagement’s discretion. \\n- If any employee is leaving company before encashment month then his / her pending \\nleaves will not be encash.'),\n",
       " Document(metadata={'producer': 'Microsoft® Word for Microsoft 365', 'creator': 'Microsoft® Word for Microsoft 365', 'creationdate': '2025-07-21T12:59:58+00:00', 'moddate': '2025-07-21T12:59:58+00:00', 'source': '../data/pdf/HR Policy_2025 Final.pdf', 'total_pages': 7, 'page': 2, 'page_label': '3', 'source_file': 'HR Policy_2025 Final.pdf', 'file_type': 'pdf'}, page_content='management’s discretion. \\n- If any employee is leaving company before encashment month then his / her pending \\nleaves will not be encash. \\n \\nWFH: \\n- We are not providing any WFH but if you want then must be you are working in \\ndedicated client and you will do your work properly. Who has project dependency and \\ndoing R&D then we will not allow WFH in these cases. \\n- For WFH you have to take a permission of your TL after that inform to HR and add it in \\nHRM System. \\n- In WFH any type of system issue will be come or any asset is damage then he/she will \\nbe responsible for that issue.'),\n",
       " Document(metadata={'producer': 'Microsoft® Word for Microsoft 365', 'creator': 'Microsoft® Word for Microsoft 365', 'creationdate': '2025-07-21T12:59:58+00:00', 'moddate': '2025-07-21T12:59:58+00:00', 'source': '../data/pdf/HR Policy_2025 Final.pdf', 'total_pages': 7, 'page': 3, 'page_label': '4', 'source_file': 'HR Policy_2025 Final.pdf', 'file_type': 'pdf'}, page_content='Page 4 of 7 \\n \\n \\nSection 3: Appraisal Policy \\nWe always appreciate the good work and dedication towards the work. We believe quality \\nwork and less rework will result in more productivity. \\n \\n- We have yearly appraisal cycle starting from the joining date where you will be \\nappraised in salary and/or designation and/or responsibilities based on your past year \\nperformance, potential to perform in coming year and the skillsets you have newly \\nadopted. \\n- To be eligible to have salary appraisal, one MUST complete 12 working months into \\nthe company. \\n- This excludes extended leaves or any other reasons. \\n- For new employee, if you are joined after 15th date of month then appraisal month \\nwill be count from next month. i.e if you will join us from 16th Jan 2025 then your \\nnext increment will be on Feb 2026 \\n- With your appraisal, you would be entitled to serve the company for at least 12 \\nmonths  \\nStarting from the effective appraisal month. No resignation will be accepted for 10'),\n",
       " Document(metadata={'producer': 'Microsoft® Word for Microsoft 365', 'creator': 'Microsoft® Word for Microsoft 365', 'creationdate': '2025-07-21T12:59:58+00:00', 'moddate': '2025-07-21T12:59:58+00:00', 'source': '../data/pdf/HR Policy_2025 Final.pdf', 'total_pages': 7, 'page': 3, 'page_label': '4', 'source_file': 'HR Policy_2025 Final.pdf', 'file_type': 'pdf'}, page_content='- With your appraisal, you would be entitled to serve the company for at least 12 \\nmonths  \\nStarting from the effective appraisal month. No resignation will be accepted for 10 \\nmonths from your appraisal date and doing so will be considered the breach of \\ncompany appraisal policy where by your appraisal salary (Increment amount) will be \\nforfeit and the amount will be adjusted in Full & Final settlement. \\n \\nSection 4: Exit Policy \\n- In the event of end of employment, one has to write an email to HR which will be \\nconsidered as resignation. The resignation acceptance is solely management’s \\ndecision including the relieving date. \\n- Employee MUST serve 2 months of notice period from the day of resignation. Notice \\nperiod may get extended based on work assignment and handover time required. The \\nfinal decision will stay with the HR Team for the same and employee is abide by the \\ndecision. \\n- The notice period is compulsory and bound to legal action in case not followed by \\nemployee.'),\n",
       " Document(metadata={'producer': 'Microsoft® Word for Microsoft 365', 'creator': 'Microsoft® Word for Microsoft 365', 'creationdate': '2025-07-21T12:59:58+00:00', 'moddate': '2025-07-21T12:59:58+00:00', 'source': '../data/pdf/HR Policy_2025 Final.pdf', 'total_pages': 7, 'page': 3, 'page_label': '4', 'source_file': 'HR Policy_2025 Final.pdf', 'file_type': 'pdf'}, page_content='final decision will stay with the HR Team for the same and employee is abide by the \\ndecision. \\n- The notice period is compulsory and bound to legal action in case not followed by \\nemployee. \\n- There is no provision of any kind of leaves during notice period. You can’t get any \\ncredited leaves if you will resign. The sole purpose of notice period duration is to \\ncomplete the handover process fully so project progress and client deliveries can be \\nexecuted without any impact. \\n- The HR Team can also reduce the notice period based on the handover time required. \\nThe sole decision remains with HR Team. \\n- If employee takes any unplanned/emergency or any type of leaves in notice period, \\nthe notice period will get extended with those many working days and the relieving \\ndate will be extended. Any relieving date communicated in prior by the HR Team will \\nbe revised. \\n- The leave eligibility will be recalculated for the employee based on his/her present'),\n",
       " Document(metadata={'producer': 'Microsoft® Word for Microsoft 365', 'creator': 'Microsoft® Word for Microsoft 365', 'creationdate': '2025-07-21T12:59:58+00:00', 'moddate': '2025-07-21T12:59:58+00:00', 'source': '../data/pdf/HR Policy_2025 Final.pdf', 'total_pages': 7, 'page': 4, 'page_label': '5', 'source_file': 'HR Policy_2025 Final.pdf', 'file_type': 'pdf'}, page_content='Page 5 of 7 \\n \\ndays. Number of leaves consumed above eligible balance will be deducted on gross \\nsalary from Full and Final settlement. \\n- You are expected to handover all the knowledge base, documents, code, credentials \\nto company in the notice you serve with company. You should not be accessing any \\nkind of tools, emails, software, projects from outside after you have been relieved. \\nDoing so will be considered the breach of company policy and you will have to face \\nlegal actions. \\n- All manuals, literature, systems, projects, documents etc. developed by you, while in \\ncompany service will at all times deemed to be the sole legal property of the \\ncompany. \\n- You are required to maintain utmost confidentiality and non-discloser in respect of all \\nthe matters, reports, operations, project stakeholders – Internal or external you may \\ncome in contact with during the course of your employment with company and after'),\n",
       " Document(metadata={'producer': 'Microsoft® Word for Microsoft 365', 'creator': 'Microsoft® Word for Microsoft 365', 'creationdate': '2025-07-21T12:59:58+00:00', 'moddate': '2025-07-21T12:59:58+00:00', 'source': '../data/pdf/HR Policy_2025 Final.pdf', 'total_pages': 7, 'page': 4, 'page_label': '5', 'source_file': 'HR Policy_2025 Final.pdf', 'file_type': 'pdf'}, page_content='the matters, reports, operations, project stakeholders – Internal or external you may \\ncome in contact with during the course of your employment with company and after \\nthat for next at least 3 years. As a part of exit process, you need to sign a None \\nDisclosure Agreement.  \\n \\nSection 5: Termination Policy \\n- In the event of any discrepancy or untrue information found in your candidature or \\nresume or documents submitted, willful neglect of your duties, breach of trust, gross \\nindiscipline or any other serious dereliction of duties that may be prejudicial to the \\ninterests of the Company, or poor performance measured by Company, the Company \\nhas the discretion to immediately terminate your services forthwith or with such \\nnotice as it deems fit and without any pay whatsoever. \\n- You expressly acknowledge and recognize that notice period is a key condition to the \\nemployment. Any payment in lieu of notice, shall be as per Company policy and as'),\n",
       " Document(metadata={'producer': 'Microsoft® Word for Microsoft 365', 'creator': 'Microsoft® Word for Microsoft 365', 'creationdate': '2025-07-21T12:59:58+00:00', 'moddate': '2025-07-21T12:59:58+00:00', 'source': '../data/pdf/HR Policy_2025 Final.pdf', 'total_pages': 7, 'page': 4, 'page_label': '5', 'source_file': 'HR Policy_2025 Final.pdf', 'file_type': 'pdf'}, page_content=\"- You expressly acknowledge and recognize that notice period is a key condition to the \\nemployment. Any payment in lieu of notice, shall be as per Company policy and as \\ndetermined by the Company in the specific circumstances. \\n- In the event of termination, company is not liable to provide any kind of salary, \\ncheque or any settlement and have zero liability with immediate effect. \\n- If an Employee remains absent from the duty without authorization or any kind of \\nintimation to HR Team for 3 consecutive days, it will be presumed that the Employee \\nhas abandoned his/her services. \\n- In such cases, the company will have the right to terminate the Employee's services \\nand strike off his/her name from the company. In such case, above Termination policy \\nwill be applicable. \\n \\n \\n Keep in mind – To do:  \\n \\n- Execute Company’s business with Trust, honesty, accountability and integrity which \\ncreates and protects Company's goodwill and reputation.\"),\n",
       " Document(metadata={'producer': 'Microsoft® Word for Microsoft 365', 'creator': 'Microsoft® Word for Microsoft 365', 'creationdate': '2025-07-21T12:59:58+00:00', 'moddate': '2025-07-21T12:59:58+00:00', 'source': '../data/pdf/HR Policy_2025 Final.pdf', 'total_pages': 7, 'page': 4, 'page_label': '5', 'source_file': 'HR Policy_2025 Final.pdf', 'file_type': 'pdf'}, page_content=\"will be applicable. \\n \\n \\n Keep in mind – To do:  \\n \\n- Execute Company’s business with Trust, honesty, accountability and integrity which \\ncreates and protects Company's goodwill and reputation.  \\n-  In addition to being a valuable asset of the organization, the team member is also the \\nbrand ambassador. The conduct, behavior and the personal appearance of the team \\nmember reflects on him/her as well as the organization.\"),\n",
       " Document(metadata={'producer': 'Microsoft® Word for Microsoft 365', 'creator': 'Microsoft® Word for Microsoft 365', 'creationdate': '2025-07-21T12:59:58+00:00', 'moddate': '2025-07-21T12:59:58+00:00', 'source': '../data/pdf/HR Policy_2025 Final.pdf', 'total_pages': 7, 'page': 5, 'page_label': '6', 'source_file': 'HR Policy_2025 Final.pdf', 'file_type': 'pdf'}, page_content='Page 6 of 7 \\n \\n- Team members should maintain the confidentiality of confidential information \\nentrusted to them in carrying out their duties and responsibilities, except where \\ndisclosure is approved by the Company or legally mandated or if such information is \\nalready in the public domain. Confidential information includes all non-public \\ninformation that might be of use to competitors, or harmful to the Company or its \\ncustomers, if disclosed. The Company’s confidential information shall not be \\ninappropriately disclosed or used for the personal gain or advantage of anyone other \\nthan the Company.  \\n- Please do keep your Mobile Phones on silent mode in office premises. \\n- Put your mobiles in given rack near your seat. \\n- Lock your screen when you leave your seat and off the computer properly at the end \\nof day. \\n- Do keep your desk very clean and manage your important papers in good manner. \\nEnsure there are no confidential documents on your desk at the end of the day.'),\n",
       " Document(metadata={'producer': 'Microsoft® Word for Microsoft 365', 'creator': 'Microsoft® Word for Microsoft 365', 'creationdate': '2025-07-21T12:59:58+00:00', 'moddate': '2025-07-21T12:59:58+00:00', 'source': '../data/pdf/HR Policy_2025 Final.pdf', 'total_pages': 7, 'page': 5, 'page_label': '6', 'source_file': 'HR Policy_2025 Final.pdf', 'file_type': 'pdf'}, page_content='of day. \\n- Do keep your desk very clean and manage your important papers in good manner. \\nEnsure there are no confidential documents on your desk at the end of the day.  \\n \\nKeep in mind – NOT to do: \\n \\n- Do not talk loudly in office.  \\n- Do not attend mobile calls in development area, it can be attended in outside corridor \\nif necessary. \\n- Do not put mobiles on desk. \\n- Do not carry your office laptop at home without TL Permission.  \\n- Do not play loud radio or music in development area. \\n- Do not use any social media application in your mobile or laptop. \\n- Do not download anything from internet without authorization.  \\n- Do not use office internet for personal accordance.  \\n- Do not bring/plug/install any external devices.  \\n- Do not eat/spit tobacco or smoke in the office and in whole premises. \\n \\n \\nHuman Resources function own this policy. In case of any dispute, on the policy HR or Management'),\n",
       " Document(metadata={'producer': 'Microsoft® Word for Microsoft 365', 'creator': 'Microsoft® Word for Microsoft 365', 'creationdate': '2025-07-21T12:59:58+00:00', 'moddate': '2025-07-21T12:59:58+00:00', 'source': '../data/pdf/HR Policy_2025 Final.pdf', 'total_pages': 7, 'page': 5, 'page_label': '6', 'source_file': 'HR Policy_2025 Final.pdf', 'file_type': 'pdf'}, page_content='- Do not eat/spit tobacco or smoke in the office and in whole premises. \\n \\n \\nHuman Resources function own this policy. In case of any dispute, on the policy HR or Management \\nshould be contacted and the decision will be binding. For any discrepancy or dispute, Management \\ndecision will be the final one. \\n \\nManagement reserves the right to change the policy without prior notice. Any deviation/exception \\nneeds to be approved by the decision-making authority. \\n \\n**This document is intellectual property of LogicRays. This is strictly confidential and not to be \\ndisclosed anywhere. The policy is one to one between Company and Employee. Copying this policy \\nor showing/sharing/discussing outside the office premises attracts legal action.'),\n",
       " Document(metadata={'producer': 'Microsoft® Word for Microsoft 365', 'creator': 'Microsoft® Word for Microsoft 365', 'creationdate': '2025-07-21T12:59:58+00:00', 'moddate': '2025-07-21T12:59:58+00:00', 'source': '../data/pdf/HR Policy_2025 Final.pdf', 'total_pages': 7, 'page': 6, 'page_label': '7', 'source_file': 'HR Policy_2025 Final.pdf', 'file_type': 'pdf'}, page_content='Page 7 of 7 \\n \\n \\n \\n \\n \\n \\n \\n \\n \\n \\n \\n \\n \\n \\n \\n \\n \\n \\n \\n \\n \\n \\n \\n \\n \\n \\nThank You')]"
      ]
     },
     "execution_count": 10,
     "metadata": {},
     "output_type": "execute_result"
    }
   ],
   "source": [
    "chunks=split_documents(all_pdf_documents)\n",
    "chunks"
   ]
  },
  {
   "cell_type": "markdown",
   "id": "36c42513",
   "metadata": {},
   "source": [
    "## embedding And vectorStoreDB"
   ]
  },
  {
   "cell_type": "code",
   "execution_count": 4,
   "id": "32b60c36",
   "metadata": {},
   "outputs": [],
   "source": [
    "import numpy as np\n",
    "from sentence_transformers import SentenceTransformer\n",
    "import chromadb\n",
    "from chromadb.config import Settings\n",
    "import uuid\n",
    "from typing import List, Dict, Any, Tuple\n",
    "from sklearn.metrics.pairwise import cosine_similarity"
   ]
  },
  {
   "cell_type": "code",
   "execution_count": 5,
   "id": "a3dce065",
   "metadata": {},
   "outputs": [
    {
     "name": "stdout",
     "output_type": "stream",
     "text": [
      "Loading embedding model: all-MiniLM-L6-v2\n",
      "Model loaded successfully. Embedding dimension: 384\n"
     ]
    },
    {
     "data": {
      "text/plain": [
       "<__main__.EmbeddingManager at 0x7f6ce62f23c0>"
      ]
     },
     "execution_count": 5,
     "metadata": {},
     "output_type": "execute_result"
    }
   ],
   "source": [
    "class EmbeddingManager:\n",
    "    \"\"\"Handles document embedding generation using SentenceTransformer\"\"\"\n",
    "    \n",
    "    def __init__(self, model_name: str = \"all-MiniLM-L6-v2\"):\n",
    "        \"\"\"\n",
    "        Initialize the embedding manager\n",
    "        \n",
    "        Args:\n",
    "            model_name: HuggingFace model name for sentence embeddings\n",
    "        \"\"\"\n",
    "        self.model_name = model_name\n",
    "        self.model = None\n",
    "        self._load_model()\n",
    "\n",
    "    def _load_model(self):\n",
    "        \"\"\"Load the SentenceTransformer model\"\"\"\n",
    "        try:\n",
    "            print(f\"Loading embedding model: {self.model_name}\")\n",
    "            self.model = SentenceTransformer(self.model_name)\n",
    "            print(f\"Model loaded successfully. Embedding dimension: {self.model.get_sentence_embedding_dimension()}\")\n",
    "        except Exception as e:\n",
    "            print(f\"Error loading model {self.model_name}: {e}\")\n",
    "            raise\n",
    "\n",
    "    def generate_embeddings(self, texts: List[str]) -> np.ndarray:\n",
    "        \"\"\"\n",
    "        Generate embeddings for a list of texts\n",
    "        \n",
    "        Args:\n",
    "            texts: List of text strings to embed\n",
    "            \n",
    "        Returns:\n",
    "            numpy array of embeddings with shape (len(texts), embedding_dim)\n",
    "        \"\"\"\n",
    "        if not self.model:\n",
    "            raise ValueError(\"Model not loaded\")\n",
    "        \n",
    "        print(f\"Generating embeddings for {len(texts)} texts...\")\n",
    "        embeddings = self.model.encode(texts, show_progress_bar=True)\n",
    "        print(f\"Generated embeddings with shape: {embeddings.shape}\")\n",
    "        return embeddings\n",
    "\n",
    "\n",
    "## initialize the embedding manager\n",
    "\n",
    "embedding_manager=EmbeddingManager()\n",
    "embedding_manager"
   ]
  },
  {
   "cell_type": "markdown",
   "id": "4f8cac25",
   "metadata": {},
   "source": [
    "## VectorStore"
   ]
  },
  {
   "cell_type": "code",
   "execution_count": 6,
   "id": "e7ae7371",
   "metadata": {},
   "outputs": [
    {
     "name": "stdout",
     "output_type": "stream",
     "text": [
      "Vector store initialized. Collection: pdf_documents\n",
      "Existing documents in collection: 0\n"
     ]
    },
    {
     "data": {
      "text/plain": [
       "<__main__.VectorStore at 0x7f6ce5a54ec0>"
      ]
     },
     "execution_count": 6,
     "metadata": {},
     "output_type": "execute_result"
    }
   ],
   "source": [
    "class VectorStore:\n",
    "    \"\"\"Manages document embeddings in a ChromaDB vector store\"\"\"\n",
    "    \n",
    "    def __init__(self, collection_name: str = \"pdf_documents\", persist_directory: str = \"../data/vector_store\"):\n",
    "        \"\"\"\n",
    "        Initialize the vector store\n",
    "        \n",
    "        Args:\n",
    "            collection_name: Name of the ChromaDB collection\n",
    "            persist_directory: Directory to persist the vector store\n",
    "        \"\"\"\n",
    "        self.collection_name = collection_name\n",
    "        self.persist_directory = persist_directory\n",
    "        self.client = None\n",
    "        self.collection = None\n",
    "        self._initialize_store()\n",
    "\n",
    "    def _initialize_store(self):\n",
    "        \"\"\"Initialize ChromaDB client and collection\"\"\"\n",
    "        try:\n",
    "            # Create persistent ChromaDB client\n",
    "            os.makedirs(self.persist_directory, exist_ok=True)\n",
    "            self.client = chromadb.PersistentClient(path=self.persist_directory)\n",
    "            \n",
    "            # Get or create collection\n",
    "            self.collection = self.client.get_or_create_collection(\n",
    "                name=self.collection_name,\n",
    "                metadata={\"description\": \"PDF document embeddings for RAG\"}\n",
    "            )\n",
    "            print(f\"Vector store initialized. Collection: {self.collection_name}\")\n",
    "            print(f\"Existing documents in collection: {self.collection.count()}\")\n",
    "            \n",
    "        except Exception as e:\n",
    "            print(f\"Error initializing vector store: {e}\")\n",
    "            raise\n",
    "\n",
    "    def add_documents(self, documents: List[Any], embeddings: np.ndarray):\n",
    "        \"\"\"\n",
    "        Add documents and their embeddings to the vector store\n",
    "        \n",
    "        Args:\n",
    "            documents: List of LangChain documents\n",
    "            embeddings: Corresponding embeddings for the documents\n",
    "        \"\"\"\n",
    "        if len(documents) != len(embeddings):\n",
    "            raise ValueError(\"Number of documents must match number of embeddings\")\n",
    "        \n",
    "        print(f\"Adding {len(documents)} documents to vector store...\")\n",
    "        \n",
    "        # Prepare data for ChromaDB\n",
    "        ids = []\n",
    "        metadatas = []\n",
    "        documents_text = []\n",
    "        embeddings_list = []\n",
    "        \n",
    "        for i, (doc, embedding) in enumerate(zip(documents, embeddings)):\n",
    "            # Generate unique ID\n",
    "            doc_id = f\"doc_{uuid.uuid4().hex[:8]}_{i}\"\n",
    "            ids.append(doc_id)\n",
    "            \n",
    "            # Prepare metadata\n",
    "            metadata = dict(doc.metadata)\n",
    "            metadata['doc_index'] = i\n",
    "            metadata['content_length'] = len(doc.page_content)\n",
    "            metadatas.append(metadata)\n",
    "            \n",
    "            # Document content\n",
    "            documents_text.append(doc.page_content)\n",
    "            \n",
    "            # Embedding\n",
    "            embeddings_list.append(embedding.tolist())\n",
    "\n",
    "            # Add to collection\n",
    "        try:\n",
    "            self.collection.add(\n",
    "                ids=ids,\n",
    "                embeddings=embeddings_list,\n",
    "                metadatas=metadatas,\n",
    "                documents=documents_text\n",
    "            )\n",
    "            print(f\"Successfully added {len(documents)} documents to vector store\")\n",
    "            print(f\"Total documents in collection: {self.collection.count()}\")\n",
    "            \n",
    "        except Exception as e:\n",
    "            print(f\"Error adding documents to vector store: {e}\")\n",
    "            raise\n",
    "\n",
    "vectorstore=VectorStore()\n",
    "vectorstore\n",
    "    "
   ]
  },
  {
   "cell_type": "code",
   "execution_count": 11,
   "id": "fe3c8968",
   "metadata": {},
   "outputs": [
    {
     "name": "stdout",
     "output_type": "stream",
     "text": [
      "Generating embeddings for 43 texts...\n"
     ]
    },
    {
     "name": "stderr",
     "output_type": "stream",
     "text": [
      "Batches:   0%|          | 0/2 [00:00<?, ?it/s]"
     ]
    },
    {
     "name": "stderr",
     "output_type": "stream",
     "text": [
      "Batches: 100%|██████████| 2/2 [00:09<00:00,  4.87s/it]\n"
     ]
    },
    {
     "name": "stdout",
     "output_type": "stream",
     "text": [
      "Generated embeddings with shape: (43, 384)\n",
      "Adding 43 documents to vector store...\n",
      "Successfully added 43 documents to vector store\n",
      "Total documents in collection: 43\n"
     ]
    }
   ],
   "source": [
    "### Convert the text to embeddings\n",
    "texts=[doc.page_content for doc in chunks]\n",
    "\n",
    "## Generate the Embeddings\n",
    "\n",
    "embeddings=embedding_manager.generate_embeddings(texts)\n",
    "\n",
    "##store int he vector dtaabase\n",
    "vectorstore.add_documents(chunks,embeddings)"
   ]
  },
  {
   "cell_type": "markdown",
   "id": "08a1a578",
   "metadata": {},
   "source": [
    "## Retriever Pipeline From VectorStore"
   ]
  },
  {
   "cell_type": "code",
   "execution_count": 12,
   "id": "94668015",
   "metadata": {},
   "outputs": [],
   "source": [
    "class RAGRetriever:\n",
    "    \"\"\"Handles query-based retrieval from the vector store\"\"\"\n",
    "    \n",
    "    def __init__(self, vector_store: VectorStore, embedding_manager: EmbeddingManager):\n",
    "        \"\"\"\n",
    "        Initialize the retriever\n",
    "        \n",
    "        Args:\n",
    "            vector_store: Vector store containing document embeddings\n",
    "            embedding_manager: Manager for generating query embeddings\n",
    "        \"\"\"\n",
    "        self.vector_store = vector_store\n",
    "        self.embedding_manager = embedding_manager\n",
    "\n",
    "    def retrieve(self, query: str, top_k: int = 5, score_threshold: float = 0.0) -> List[Dict[str, Any]]:\n",
    "        \"\"\"\n",
    "        Retrieve relevant documents for a query\n",
    "        \n",
    "        Args:\n",
    "            query: The search query\n",
    "            top_k: Number of top results to return\n",
    "            score_threshold: Minimum similarity score threshold\n",
    "            \n",
    "        Returns:\n",
    "            List of dictionaries containing retrieved documents and metadata\n",
    "        \"\"\"\n",
    "        print(f\"Retrieving documents for query: '{query}'\")\n",
    "        print(f\"Top K: {top_k}, Score threshold: {score_threshold}\")\n",
    "        \n",
    "        # Generate query embedding\n",
    "        query_embedding = self.embedding_manager.generate_embeddings([query])[0]\n",
    "\n",
    "        # Search in vector store\n",
    "        try:\n",
    "            results = self.vector_store.collection.query(\n",
    "                query_embeddings=[query_embedding.tolist()],\n",
    "                n_results=top_k\n",
    "            )\n",
    "            \n",
    "            # Process results\n",
    "            retrieved_docs = []\n",
    "            \n",
    "            if results['documents'] and results['documents'][0]:\n",
    "                documents = results['documents'][0]\n",
    "                metadatas = results['metadatas'][0]\n",
    "                distances = results['distances'][0]\n",
    "                ids = results['ids'][0]\n",
    "                \n",
    "                for i, (doc_id, document, metadata, distance) in enumerate(zip(ids, documents, metadatas, distances)):\n",
    "                    # Convert distance to similarity score (ChromaDB uses cosine distance)\n",
    "                    similarity_score = 1 - distance\n",
    "                    \n",
    "                    if similarity_score >= score_threshold:\n",
    "                        retrieved_docs.append({\n",
    "                            'id': doc_id,\n",
    "                            'content': document,\n",
    "                            'metadata': metadata,\n",
    "                            'similarity_score': similarity_score,\n",
    "                            'distance': distance,\n",
    "                            'rank': i + 1\n",
    "                        })\n",
    "                \n",
    "                print(f\"Retrieved {len(retrieved_docs)} documents (after filtering)\")\n",
    "            else:\n",
    "                print(\"No documents found\")\n",
    "            \n",
    "            return retrieved_docs\n",
    "            \n",
    "        except Exception as e:\n",
    "            print(f\"Error during retrieval: {e}\")\n",
    "            return []\n",
    "\n",
    "rag_retriever=RAGRetriever(vectorstore,embedding_manager)"
   ]
  },
  {
   "cell_type": "code",
   "execution_count": 14,
   "id": "03df3ff1",
   "metadata": {},
   "outputs": [
    {
     "name": "stdout",
     "output_type": "stream",
     "text": [
      "Retrieving documents for query: 'please summarixe hr policy'\n",
      "Top K: 5, Score threshold: 0.0\n",
      "Generating embeddings for 1 texts...\n"
     ]
    },
    {
     "name": "stderr",
     "output_type": "stream",
     "text": [
      "Batches: 100%|██████████| 1/1 [00:00<00:00, 45.43it/s]"
     ]
    },
    {
     "name": "stdout",
     "output_type": "stream",
     "text": [
      "Generated embeddings with shape: (1, 384)\n",
      "Retrieved 2 documents (after filtering)\n"
     ]
    },
    {
     "name": "stderr",
     "output_type": "stream",
     "text": [
      "\n"
     ]
    },
    {
     "data": {
      "text/plain": [
       "[{'id': 'doc_8c110850_25',\n",
       "  'content': 'Page 1 of 7 \\n \\n \\n \\n \\n \\n \\n \\n \\nHR Policy \\nCreated Date: 1st  Jan 2025',\n",
       "  'metadata': {'page': 0,\n",
       "   'doc_index': 25,\n",
       "   'source': '../data/pdf/HR Policy_2025 Final.pdf',\n",
       "   'total_pages': 7,\n",
       "   'creationdate': '2025-07-21T12:59:58+00:00',\n",
       "   'page_label': '1',\n",
       "   'moddate': '2025-07-21T12:59:58+00:00',\n",
       "   'content_length': 67,\n",
       "   'source_file': 'HR Policy_2025 Final.pdf',\n",
       "   'producer': 'Microsoft® Word for Microsoft 365',\n",
       "   'file_type': 'pdf',\n",
       "   'creator': 'Microsoft® Word for Microsoft 365'},\n",
       "  'similarity_score': 0.13547176122665405,\n",
       "  'distance': 0.864528238773346,\n",
       "  'rank': 1},\n",
       " {'id': 'doc_8b501791_41',\n",
       "  'content': '- Do not eat/spit tobacco or smoke in the office and in whole premises. \\n \\n \\nHuman Resources function own this policy. In case of any dispute, on the policy HR or Management \\nshould be contacted and the decision will be binding. For any discrepancy or dispute, Management \\ndecision will be the final one. \\n \\nManagement reserves the right to change the policy without prior notice. Any deviation/exception \\nneeds to be approved by the decision-making authority. \\n \\n**This document is intellectual property of LogicRays. This is strictly confidential and not to be \\ndisclosed anywhere. The policy is one to one between Company and Employee. Copying this policy \\nor showing/sharing/discussing outside the office premises attracts legal action.',\n",
       "  'metadata': {'source': '../data/pdf/HR Policy_2025 Final.pdf',\n",
       "   'page_label': '6',\n",
       "   'producer': 'Microsoft® Word for Microsoft 365',\n",
       "   'file_type': 'pdf',\n",
       "   'content_length': 740,\n",
       "   'creator': 'Microsoft® Word for Microsoft 365',\n",
       "   'page': 5,\n",
       "   'total_pages': 7,\n",
       "   'moddate': '2025-07-21T12:59:58+00:00',\n",
       "   'source_file': 'HR Policy_2025 Final.pdf',\n",
       "   'doc_index': 41,\n",
       "   'creationdate': '2025-07-21T12:59:58+00:00'},\n",
       "  'similarity_score': 0.047846436500549316,\n",
       "  'distance': 0.9521535634994507,\n",
       "  'rank': 2}]"
      ]
     },
     "execution_count": 14,
     "metadata": {},
     "output_type": "execute_result"
    }
   ],
   "source": [
    "rag_retriever.retrieve(\"please summarixe hr policy\")"
   ]
  },
  {
   "cell_type": "markdown",
   "id": "37e252e6",
   "metadata": {},
   "source": [
    "## RAG Pipeline- VectorDB To LLM Output Generation"
   ]
  },
  {
   "cell_type": "code",
   "execution_count": null,
   "id": "9a9aef58",
   "metadata": {},
   "outputs": [],
   "source": [
    "import os\n",
    "from dotenv import load_dotenv\n",
    "load_dotenv()\n",
    "\n",
    "print(os.getenv(\"GROQ_API_KEY\"))"
   ]
  },
  {
   "cell_type": "code",
   "execution_count": 16,
   "id": "14f7d7f1",
   "metadata": {},
   "outputs": [],
   "source": [
    "from langchain_groq import ChatGroq\n",
    "from langchain.prompts import PromptTemplate\n",
    "from langchain.schema import HumanMessage, SystemMessage"
   ]
  },
  {
   "cell_type": "code",
   "execution_count": 17,
   "id": "727d2a57",
   "metadata": {},
   "outputs": [],
   "source": [
    "### Initialize the Groq LLM (set your GROQ_API_KEY in environment)\n",
    "groq_api_key = os.getenv(\"GROQ_API_KEY\")\n",
    "\n",
    "llm=ChatGroq(groq_api_key=groq_api_key,model_name=\"gemma2-9b-it\",temperature=0.1,max_tokens=1024)\n",
    "\n",
    "## 2. Simple RAG function: retrieve context + generate response\n",
    "def rag_simple(query,retriever,llm,top_k=3):\n",
    "    ## retriever the context\n",
    "    results=retriever.retrieve(query,top_k=top_k)\n",
    "    context=\"\\n\\n\".join([doc['content'] for doc in results]) if results else \"\"\n",
    "    if not context:\n",
    "        return \"No relevant context found to answer the question.\"\n",
    "    \n",
    "    ## generate the answwer using GROQ LLM\n",
    "    prompt=f\"\"\"Use the following context to answer the question concisely.\n",
    "        Context:\n",
    "        {context}\n",
    "\n",
    "        Question: {query}\n",
    "\n",
    "        Answer:\"\"\"\n",
    "    \n",
    "    response=llm.invoke([prompt.format(context=context,query=query)])\n",
    "    return response.content"
   ]
  },
  {
   "cell_type": "code",
   "execution_count": 18,
   "id": "c5c7eb28",
   "metadata": {},
   "outputs": [
    {
     "name": "stdout",
     "output_type": "stream",
     "text": [
      "Retrieving documents for query: 'What is hr policy?'\n",
      "Top K: 3, Score threshold: 0.0\n",
      "Generating embeddings for 1 texts...\n"
     ]
    },
    {
     "name": "stderr",
     "output_type": "stream",
     "text": [
      "Batches: 100%|██████████| 1/1 [00:00<00:00, 26.15it/s]"
     ]
    },
    {
     "name": "stdout",
     "output_type": "stream",
     "text": [
      "Generated embeddings with shape: (1, 384)\n",
      "Retrieved 2 documents (after filtering)\n"
     ]
    },
    {
     "name": "stderr",
     "output_type": "stream",
     "text": [
      "\n"
     ]
    },
    {
     "name": "stdout",
     "output_type": "stream",
     "text": [
      "This HR policy outlines that tobacco use (eating, spitting, smoking) is prohibited in the office and entire premises.  \n",
      "\n"
     ]
    }
   ],
   "source": [
    "answer=rag_simple(\"What is hr policy?\",rag_retriever,llm)\n",
    "print(answer)"
   ]
  },
  {
   "cell_type": "markdown",
   "id": "62403238",
   "metadata": {},
   "source": [
    "## Enhanced RAG Pipeline Features"
   ]
  },
  {
   "cell_type": "code",
   "execution_count": 19,
   "id": "a69a2e2b",
   "metadata": {},
   "outputs": [
    {
     "name": "stdout",
     "output_type": "stream",
     "text": [
      "Retrieving documents for query: 'what is inside the figma documents'\n",
      "Top K: 3, Score threshold: 0.1\n",
      "Generating embeddings for 1 texts...\n"
     ]
    },
    {
     "name": "stderr",
     "output_type": "stream",
     "text": [
      "Batches: 100%|██████████| 1/1 [00:00<00:00, 11.94it/s]"
     ]
    },
    {
     "name": "stdout",
     "output_type": "stream",
     "text": [
      "Generated embeddings with shape: (1, 384)\n",
      "Retrieved 1 documents (after filtering)\n"
     ]
    },
    {
     "name": "stderr",
     "output_type": "stream",
     "text": [
      "\n"
     ]
    },
    {
     "name": "stdout",
     "output_type": "stream",
     "text": [
      "Answer: The Figma documents contain the original design specifications for the project.  \n",
      "\n",
      "Sources: [{'source': 'Figma Document.pdf', 'page': 3, 'score': 0.26536285877227783, 'preview': '● Implements\\xa0responsive\\xa0and\\xa0maintainable\\xa0CSS\\xa0\\n● Includes\\xa0proper\\xa0component\\xa0architecture\\xa0\\n● Handles\\xa0all\\xa0interactive\\xa0elements\\xa0\\n● Provides\\xa0fallbacks\\xa0for\\xa0missing\\xa0assets\\xa0\\n● Is\\xa0optimized\\xa0for\\xa0performance\\xa0and\\xa0accessibility\\xa0\\nRemember:\\xa0The\\xa0goal\\xa0is\\xa0100%\\xa0visual\\xa0fidelity\\xa0to\\xa0the\\xa0original\\xa0Figma\\xa0design\\xa0while\\xa0produci...'}]\n",
      "Confidence: 0.26536285877227783\n",
      "Context Preview: ● Implements responsive and maintainable CSS \n",
      "● Includes proper component architecture \n",
      "● Handles all interactive elements \n",
      "● Provides fallbacks for missing assets \n",
      "● Is optimized for performance and accessibility \n",
      "Remember: The goal is 100% visual fidelity to the original Figma design while produci\n"
     ]
    }
   ],
   "source": [
    "# --- Enhanced RAG Pipeline Features ---\n",
    "def rag_advanced(query, retriever, llm, top_k=5, min_score=0.2, return_context=False):\n",
    "    \"\"\"\n",
    "    RAG pipeline with extra features:\n",
    "    - Returns answer, sources, confidence score, and optionally full context.\n",
    "    \"\"\"\n",
    "    results = retriever.retrieve(query, top_k=top_k, score_threshold=min_score)\n",
    "    if not results:\n",
    "        return {'answer': 'No relevant context found.', 'sources': [], 'confidence': 0.0, 'context': ''}\n",
    "    \n",
    "    # Prepare context and sources\n",
    "    context = \"\\n\\n\".join([doc['content'] for doc in results])\n",
    "    sources = [{\n",
    "        'source': doc['metadata'].get('source_file', doc['metadata'].get('source', 'unknown')),\n",
    "        'page': doc['metadata'].get('page', 'unknown'),\n",
    "        'score': doc['similarity_score'],\n",
    "        'preview': doc['content'][:300] + '...'\n",
    "    } for doc in results]\n",
    "    confidence = max([doc['similarity_score'] for doc in results])\n",
    "    \n",
    "    # Generate answer\n",
    "    prompt = f\"\"\"Use the following context to answer the question concisely.\\nContext:\\n{context}\\n\\nQuestion: {query}\\n\\nAnswer:\"\"\"\n",
    "    response = llm.invoke([prompt.format(context=context, query=query)])\n",
    "    \n",
    "    output = {\n",
    "        'answer': response.content,\n",
    "        'sources': sources,\n",
    "        'confidence': confidence\n",
    "    }\n",
    "    if return_context:\n",
    "        output['context'] = context\n",
    "    return output\n",
    "\n",
    "# Example usage:\n",
    "result = rag_advanced(\"what is inside the figma documents\", rag_retriever, llm, top_k=3, min_score=0.1, return_context=True)\n",
    "print(\"Answer:\", result['answer'])\n",
    "print(\"Sources:\", result['sources'])\n",
    "print(\"Confidence:\", result['confidence'])\n",
    "print(\"Context Preview:\", result['context'][:300])"
   ]
  },
  {
   "cell_type": "code",
   "execution_count": null,
   "id": "3e737014",
   "metadata": {},
   "outputs": [],
   "source": []
  }
 ],
 "metadata": {
  "kernelspec": {
   "display_name": "RAG",
   "language": "python",
   "name": "python3"
  },
  "language_info": {
   "codemirror_mode": {
    "name": "ipython",
    "version": 3
   },
   "file_extension": ".py",
   "mimetype": "text/x-python",
   "name": "python",
   "nbconvert_exporter": "python",
   "pygments_lexer": "ipython3",
   "version": "3.13.6"
  }
 },
 "nbformat": 4,
 "nbformat_minor": 5
}
